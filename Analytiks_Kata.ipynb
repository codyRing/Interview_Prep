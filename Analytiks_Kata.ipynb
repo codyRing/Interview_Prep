{
 "cells": [
  {
   "cell_type": "markdown",
   "metadata": {},
   "source": [
    "# 1. implement the function find_roots to find the roots of the quadratic equation: ax**2+bx+c=0:\n",
    "The function should return a tuple containing roots in any order.\n",
    "The roots of the quadratic equation can be found with the following formula:\n",
    "\n",
    "For example, find_roots(2,10,8) should return (-1,-4) or (-4,-1) as the roots of the equation 2x**2+10x+8=0 are -1 and -4"
   ]
  },
  {
   "cell_type": "code",
   "execution_count": 101,
   "metadata": {},
   "outputs": [],
   "source": [
    "import cmath\n",
    "import math"
   ]
  },
  {
   "cell_type": "code",
   "execution_count": 137,
   "metadata": {},
   "outputs": [],
   "source": [
    "def find_roots(a,b,c):\n",
    "    #find discriminant\n",
    "    d = (b**2) - (4*a*c)\n",
    "    \n",
    "    if d < 0:\n",
    "        \n",
    "        x1 = (-b + cmath.sqrt(d)) / (2 * a)\n",
    "        x2 = (-b - cmath.sqrt(d)) / (2 * a)\n",
    "        print('Result has complex answers.',\\\n",
    "        '\\nReal answers are {} and {}'.format(x1.real,x2.real),\\\n",
    "        '\\nimaginary answers are {} and {}'.format(x1.imag,x2.imag))\n",
    "        \n",
    "    elif d == 0:\n",
    "        print('Result has 1 solution')\n",
    "        x1 = (-b + math.sqrt(d)) / (2 * a)\n",
    "        x2 = (-b - math.sqrt(d)) / (2 * a)\n",
    "        \n",
    "    else:\n",
    "        print('Result has real answers')\n",
    "        x1 = (-b + math.sqrt(d)) / (2 * a)\n",
    "        x2 = (-b - math.sqrt(d)) / (2 * a)\n",
    "        #x1 = x1.real\n",
    "        #x2 = x2.real\n",
    "        \n",
    "    return(x1,x2)\n",
    "    \n"
   ]
  },
  {
   "cell_type": "code",
   "execution_count": 140,
   "metadata": {},
   "outputs": [
    {
     "name": "stdout",
     "output_type": "stream",
     "text": [
      "Result has complex answers. \n",
      "Real answers are -2.0 and -2.0 \n",
      "imaginary answers are 1.0 and -1.0\n"
     ]
    },
    {
     "data": {
      "text/plain": [
       "((-2+1j), (-2-1j))"
      ]
     },
     "execution_count": 140,
     "metadata": {},
     "output_type": "execute_result"
    }
   ],
   "source": [
    "find_roots(2,8,10)"
   ]
  },
  {
   "cell_type": "code",
   "execution_count": 141,
   "metadata": {},
   "outputs": [
    {
     "name": "stdout",
     "output_type": "stream",
     "text": [
      "Result has real answers\n"
     ]
    },
    {
     "data": {
      "text/plain": [
       "(-1.0, 5.0)"
      ]
     },
     "execution_count": 141,
     "metadata": {},
     "output_type": "execute_result"
    }
   ],
   "source": [
    "find_roots(-2,8,10)"
   ]
  },
  {
   "cell_type": "markdown",
   "metadata": {},
   "source": [
    "# 2. As part of a data processing pipleline, complete the implementation of the pipleine method:\n",
    "* The method should accept a variable number of functions, and it should return a new function that accepts one parameter arg.\n",
    "* The returned function should call the first function in the pipeline with the parameter arg, and call the second function with the result of the first function.\n",
    "* The retunred function should continue calling each function in the piplein in order, following the same pattern and return the value from the last function \n",
    "\n",
    "for example,\n",
    "```python\n",
    "pipeline(lambda x: x * 3, lambda x: x + 1, lambda x:  x / 2)\n",
    "```\n",
    "then calling the retunred function with 3 should return 5"
   ]
  },
  {
   "cell_type": "code",
   "execution_count": 148,
   "metadata": {},
   "outputs": [],
   "source": [
    "# so the answer here was pretty simple, Just needed to modify the helper to pass each function in the pipeline. \n",
    "# however I couldn't see that without some research.\n",
    "\n",
    "# Big help from here \n",
    "# https://stackoverflow.com/questions/57341797/lambda-multiple-functions-implementation-in-python-like-linux-pipeline-command"
   ]
  },
  {
   "cell_type": "code",
   "execution_count": 144,
   "metadata": {},
   "outputs": [],
   "source": [
    "def pipeline(*funcs):\n",
    "    def helper(arg):\n",
    "        for elem in funcs:\n",
    "            arg = elem(arg)\n",
    "        return arg\n",
    "\n",
    "    return helper"
   ]
  },
  {
   "cell_type": "code",
   "execution_count": 145,
   "metadata": {},
   "outputs": [
    {
     "name": "stdout",
     "output_type": "stream",
     "text": [
      "5.0\n"
     ]
    }
   ],
   "source": [
    "fun = pipeline(lambda x: x * 3, lambda x: x + 1, lambda x:  x / 2)\n",
    "print(fun(3)) #should print 5.0"
   ]
  },
  {
   "cell_type": "markdown",
   "metadata": {},
   "source": [
    "# 3. Implement a group by owners funtion that:\n",
    "accepts a dictionary containing the file owner name for each file name.\n",
    "returns a dictionary containing a list of file name sfor each owner name, in any order\n",
    "\n",
    "For example, for dictionary \n",
    "```python\n",
    "{'input.txt':'Randy', 'Cody.py':'Stan','Output.txt':'Randy'} \n",
    "\n",
    "```\n",
    "the group_by_owerns function should return {'Randy':['input.txt','output.txt','Stan':[code.py']\n",
    "\n",
    "```python\n",
    "{'Randy':['input.txt','output.txt'],'Stan':['code.py']}\n",
    "\n",
    "```"
   ]
  },
  {
   "cell_type": "code",
   "execution_count": 74,
   "metadata": {},
   "outputs": [],
   "source": [
    "def group_by_owners(files):\n",
    "    result = {}\n",
    "    for k,v in files.items():\n",
    "        result[v] = result.get(v,[])\n",
    "        result[v].append(k)\n",
    "    return result\n",
    "    "
   ]
  },
  {
   "cell_type": "code",
   "execution_count": 146,
   "metadata": {
    "scrolled": true
   },
   "outputs": [
    {
     "data": {
      "text/plain": [
       "{'Randy': ['input.txt', 'Output.txt'], 'Stan': ['Cody.py']}"
      ]
     },
     "execution_count": 146,
     "metadata": {},
     "output_type": "execute_result"
    }
   ],
   "source": [
    "files= {'input.txt':'Randy', 'Cody.py':'Stan','Output.txt':'Randy'}\n",
    "group_by_owners(files)"
   ]
  }
 ],
 "metadata": {
  "kernelspec": {
   "display_name": "Python 3",
   "language": "python",
   "name": "python3"
  },
  "language_info": {
   "codemirror_mode": {
    "name": "ipython",
    "version": 3
   },
   "file_extension": ".py",
   "mimetype": "text/x-python",
   "name": "python",
   "nbconvert_exporter": "python",
   "pygments_lexer": "ipython3",
   "version": "3.7.4"
  }
 },
 "nbformat": 4,
 "nbformat_minor": 2
}
