{
 "cells": [
  {
   "cell_type": "code",
   "execution_count": 1,
   "metadata": {},
   "outputs": [],
   "source": [
    "from configparser import ConfigParser\n",
    "import pandas as pd\n",
    "import numpy as np\n",
    "import sqlalchemy\n",
    "import datetime\n",
    "from sklearn.linear_model import LinearRegression,Lasso,Ridge,RidgeCV,LogisticRegression\n",
    "from sklearn import metrics\n",
    "from sklearn.model_selection import train_test_split\n",
    "import matplotlib.pyplot as plt\n",
    "from matplotlib.pyplot import figure\n",
    "from yellowbrick.regressor import ResidualsPlot\n",
    "from yellowbrick.regressor import PredictionError\n",
    "from functools import reduce\n",
    "import seaborn as sns\n",
    "\n",
    "%matplotlib inline\n"
   ]
  },
  {
   "cell_type": "code",
   "execution_count": 2,
   "metadata": {},
   "outputs": [
    {
     "data": {
      "text/plain": [
       "['C:/Users/User/Source/config/config.ini']"
      ]
     },
     "execution_count": 2,
     "metadata": {},
     "output_type": "execute_result"
    }
   ],
   "source": [
    "file = 'C:/Users/User/Source/config/config.ini'\n",
    "config = ConfigParser()\n",
    "config.read(file)"
   ]
  },
  {
   "cell_type": "code",
   "execution_count": 3,
   "metadata": {},
   "outputs": [],
   "source": [
    "class db_connection(object):\n",
    "    \"\"\"\n",
    "    Class for basic database interactions that will be used when copying data to a postgres DB.\n",
    "\n",
    "    \"\"\"\n",
    "\n",
    "    def __init__(self, db_name: str):\n",
    "        self.db_name = db_name\n",
    "\n",
    "        self.flavor, self.engine, self.conn, self.cursor = self.create_connection()\n",
    "\n",
    "    def create_connection(self):\n",
    "        db_name = self.db_name\n",
    "        flavor = ''\n",
    "        connstring = ''\n",
    "        if db_name == 'main':\n",
    "            flavor = 'postgres'\n",
    "            connstring = config['main']['Database'] + '://' + \\\n",
    "                         config['main']['User'] + ':' + \\\n",
    "                         config['main']['Password'] + '@' + \\\n",
    "                         config['main']['Server'] + ':' + \\\n",
    "                         config['main']['Port'] + '/' + \\\n",
    "                         config['main']['dbname']\n",
    "\n",
    "        # print(connstring)\n",
    "        engine = sqlalchemy.create_engine(connstring)\n",
    "        conn = engine.raw_connection()\n",
    "        cursor = conn.cursor()\n",
    "\n",
    "        return flavor, engine, conn, cursor\n",
    "\n",
    "\n",
    "def db_connect(db_name):\n",
    "    return db_connection(db_name)"
   ]
  },
  {
   "cell_type": "code",
   "execution_count": 4,
   "metadata": {},
   "outputs": [],
   "source": [
    "main = db_connect('main')"
   ]
  },
  {
   "cell_type": "markdown",
   "metadata": {},
   "source": [
    "First Step is to ETL the data into a local Host Postgres server.     \n",
    "\n",
    "I used pandas to get the table definitions correct first and ultimately used sqlalchemy copy expert for performance"
   ]
  },
  {
   "cell_type": "code",
   "execution_count": 5,
   "metadata": {},
   "outputs": [],
   "source": [
    "# payouts = pd.read_csv('./data/payouts.csv',parse_dates=['date'])"
   ]
  },
  {
   "cell_type": "code",
   "execution_count": null,
   "metadata": {},
   "outputs": [],
   "source": [
    "# payouts[:50].to_sql(name='payouts'\n",
    "#                     , con=main.engine\n",
    "#                     , schema='mint'\n",
    "#                     , if_exists='replace'\n",
    "#                     , chunksize=1000\n",
    "#                     , index=False\n",
    "#                     )"
   ]
  },
  {
   "cell_type": "code",
   "execution_count": null,
   "metadata": {},
   "outputs": [],
   "source": [
    "copy_sql = \"\"\"\n",
    "           COPY mint.payouts FROM stdin WITH CSV HEADER\n",
    "           DELIMITER as ','\n",
    "           \"\"\"\n",
    "\n",
    "with open('./data/payouts.csv', 'r') as f:\n",
    "    main.cursor.copy_expert(sql=copy_sql, file=f)\n",
    "    main.conn.commit()"
   ]
  },
  {
   "cell_type": "code",
   "execution_count": null,
   "metadata": {},
   "outputs": [],
   "source": [
    "# countries = pd.read_csv('./data/countries.csv')"
   ]
  },
  {
   "cell_type": "code",
   "execution_count": null,
   "metadata": {},
   "outputs": [],
   "source": [
    "# countries[:50].to_sql(name='countries'\n",
    "#                       , con=main.engine\n",
    "#                       , schema='mint'\n",
    "#                       , if_exists='replace'\n",
    "#                       , chunksize=1000\n",
    "#                       , index=False\n",
    "#                       )"
   ]
  },
  {
   "cell_type": "code",
   "execution_count": null,
   "metadata": {},
   "outputs": [],
   "source": [
    "copy_sql = \"\"\"\n",
    "           COPY mint.countries FROM stdin WITH CSV HEADER\n",
    "           DELIMITER as ','\n",
    "           \"\"\"\n",
    "\n",
    "with open('./data/countries.csv', 'r') as f:\n",
    "    main.cursor.copy_expert(sql=copy_sql, file=f)\n",
    "    main.conn.commit()"
   ]
  },
  {
   "cell_type": "code",
   "execution_count": null,
   "metadata": {},
   "outputs": [],
   "source": [
    "# industries = pd.read_csv('./data/industries.csv')"
   ]
  },
  {
   "cell_type": "code",
   "execution_count": null,
   "metadata": {},
   "outputs": [],
   "source": [
    "# industries[:50].to_sql(name='industries'\n",
    "#                        , con=main.engine\n",
    "#                        , schema='mint'\n",
    "#                        , if_exists='replace'\n",
    "#                        , chunksize=1000\n",
    "#                        , index=False\n",
    "#                        )"
   ]
  },
  {
   "cell_type": "code",
   "execution_count": null,
   "metadata": {},
   "outputs": [],
   "source": [
    "copy_sql = \"\"\"\n",
    "           COPY mint.industries FROM stdin WITH CSV HEADER\n",
    "           DELIMITER as ','\n",
    "           \"\"\"\n",
    "\n",
    "with open('./data/industries.csv', 'r') as f:\n",
    "    main.cursor.copy_expert(sql=copy_sql, file=f)\n",
    "    main.conn.commit()"
   ]
  },
  {
   "cell_type": "markdown",
   "metadata": {},
   "source": [
    "Now with everything in postgres It's a little easier to write CTE queries to get the data in the shape I want for modeling.\n",
    "\n",
    "I wanted Date,Country and dollars\n",
    "\n",
    "Translated the amount by multiplying count which I'm assuming is quantity and dividing by 100 to get dollars"
   ]
  },
  {
   "cell_type": "code",
   "execution_count": 166,
   "metadata": {},
   "outputs": [],
   "source": [
    "sql = '''\n",
    "WITH base\n",
    "AS (\n",
    "    SELECT coalesce(c.country, 'missing_country') AS country\n",
    "    ,p.DATE::DATE\n",
    "        ,To_Char(p.DATE, 'day') AS dow\n",
    "        ,To_Char(p.DATE, 'month') AS month\n",
    "        ,(p.amount * p.count) / 100 AS total_amount\n",
    "    FROM mint.payouts p\n",
    "    LEFT JOIN mint.countries c ON p.recipient_id = c.merchant_id\n",
    "    )\n",
    "SELECT DATE\n",
    "    ,country\n",
    "    ,dow\n",
    "    ,month\n",
    "    ,sum(total_amount)::DECIMAL(18, 2) AS total_amount\n",
    "FROM base\n",
    "GROUP BY DATE\n",
    "    ,country\n",
    "    ,dow\n",
    "    ,month\n",
    "'''"
   ]
  },
  {
   "cell_type": "code",
   "execution_count": 167,
   "metadata": {},
   "outputs": [],
   "source": [
    "data = pd.read_sql(sql=sql\n",
    "                    , con=main.conn\n",
    "                    , parse_dates=['date']\n",
    "                    \n",
    "                       )"
   ]
  },
  {
   "cell_type": "code",
   "execution_count": 168,
   "metadata": {},
   "outputs": [
    {
     "name": "stdout",
     "output_type": "stream",
     "text": [
      "You have price data from 12/31/2017-12AM to 12/30/2018-12AM\n"
     ]
    }
   ],
   "source": [
    "#Not totally sure what these are\n",
    "\n",
    "data = data[data.country != 'missing_country']\n",
    "# data = data[data.country == 'US']\n",
    "\n",
    "\n",
    "\n",
    "\n",
    "data.reset_index(inplace=True,drop=True)\n",
    "data.index.name = 'Id'\n",
    "\n",
    "\n",
    "print('You have price data from {} to {}'.format(data.date.min().strftime('%m/%d/%Y-%I%p'),data.date.max().strftime('%m/%d/%Y-%I%p')))\n"
   ]
  },
  {
   "cell_type": "markdown",
   "metadata": {},
   "source": [
    "Starting to realize its the United States....and everybody else."
   ]
  },
  {
   "cell_type": "code",
   "execution_count": 169,
   "metadata": {},
   "outputs": [
    {
     "data": {
      "image/png": "[encoded data removed]",
      "text/plain": [
       "<Figure size 1008x432 with 1 Axes>"
      ]
     },
     "metadata": {
      "needs_background": "light"
     },
     "output_type": "display_data"
    }
   ],
   "source": [
    "fig, ax1 = plt.subplots(nrows=1, ncols=1, figsize=[14, 6])\n",
    "sns.scatterplot(x=data['date'], y='total_amount', data=data, ax=ax1, hue='country')\n",
    "ax1.set_xlim(data.date.min(), data.date.max())\n",
    "ax1.get_legend().remove()\n",
    "\n",
    "plt.savefig('./Data/payout_scatter.png')"
   ]
  },
  {
   "cell_type": "code",
   "execution_count": 170,
   "metadata": {},
   "outputs": [
    {
     "data": {
      "image/png": "[encoded data removed]",
      "text/plain": [
       "<Figure size 864x720 with 1 Axes>"
      ]
     },
     "metadata": {
      "needs_background": "light"
     },
     "output_type": "display_data"
    }
   ],
   "source": [
    "with plt.rc_context({'xtick.color':'black', 'ytick.color':'black'}):\n",
    "    fig, (ax1) = plt.subplots(nrows= 1, ncols =1 ,figsize=(12,10))\n",
    "    sns.boxplot(x=data.country,y=data['total_amount'],data= data, ax=ax1)\n",
    "\n",
    "    \n",
    "\n",
    "\n",
    "plt.savefig('./Data/country_boxplot.png')    "
   ]
  },
  {
   "cell_type": "code",
   "execution_count": 171,
   "metadata": {},
   "outputs": [
    {
     "data": {
      "text/plain": [
       "count         365.000000\n",
       "mean      4596020.377452\n",
       "std       2808802.304378\n",
       "min        842522.680000\n",
       "25%       2604545.840000\n",
       "50%       3947248.990000\n",
       "75%       5923875.390000\n",
       "max      15659155.220000\n",
       "Name: total_amount, dtype: object"
      ]
     },
     "execution_count": 171,
     "metadata": {},
     "output_type": "execute_result"
    }
   ],
   "source": [
    "# +02 is hundreds\n",
    "# +03 is thousands\n",
    "# +04 is tens of thousands\n",
    "# +05 is hundreds of thousands\n",
    "# +06 is millions\n",
    "# +07 is tens of millions\n",
    "\n",
    "data[data['country']=='US'].total_amount.describe().apply(lambda x: format(x, 'f'))"
   ]
  },
  {
   "cell_type": "code",
   "execution_count": 172,
   "metadata": {},
   "outputs": [
    {
     "data": {
      "text/plain": [
       "count       7386.000000\n",
       "mean       13224.161962\n",
       "std        58713.787867\n",
       "min            0.480000\n",
       "25%          780.542500\n",
       "50%         2891.865000\n",
       "75%         9635.725000\n",
       "max      3804993.970000\n",
       "Name: total_amount, dtype: object"
      ]
     },
     "execution_count": 172,
     "metadata": {},
     "output_type": "execute_result"
    }
   ],
   "source": [
    "data[data['country']!='US'].total_amount.describe().apply(lambda x: format(x, 'f'))"
   ]
  },
  {
   "cell_type": "code",
   "execution_count": 173,
   "metadata": {},
   "outputs": [
    {
     "data": {
      "image/png": "[encoded data removed]",
      "text/plain": [
       "<Figure size 1008x432 with 2 Axes>"
      ]
     },
     "metadata": {
      "needs_background": "light"
     },
     "output_type": "display_data"
    }
   ],
   "source": [
    "fig, (ax1, ax2) = plt.subplots(nrows=1, ncols=2,figsize = [14,6])\n",
    "\n",
    "sns.distplot(data[data['country']=='US'].total_amount,ax=ax1)\n",
    "sns.distplot(data[data['country']!='US'].total_amount,ax=ax2)\n",
    "plt.savefig('./Data/US_Hist.png') "
   ]
  },
  {
   "cell_type": "markdown",
   "metadata": {},
   "source": [
    "I'm going to use this predict DF to get answers from a fitted model"
   ]
  },
  {
   "cell_type": "code",
   "execution_count": 174,
   "metadata": {},
   "outputs": [],
   "source": [
    "predict_sql='''\n",
    "SELECT DISTINCT \n",
    "    '1/1/2019'::DATE AS DATE\n",
    "    ,country AS country\n",
    "    ,To_Char('1/1/2019'::DATE, 'day') AS dow\n",
    "    ,To_Char('1/1/2019'::DATE, 'month') AS month\n",
    "FROM mint.countries\n",
    "'''"
   ]
  },
  {
   "cell_type": "code",
   "execution_count": 175,
   "metadata": {},
   "outputs": [],
   "source": [
    "predict = pd.read_sql(sql=predict_sql\n",
    "                    , con=main.conn\n",
    "                    , parse_dates=['date']\n",
    "                    \n",
    "                       )\n",
    "predict.index.name = 'Id'"
   ]
  },
  {
   "cell_type": "markdown",
   "metadata": {},
   "source": [
    "Making dummy columns for my features and applying the same translations to my predict"
   ]
  },
  {
   "cell_type": "code",
   "execution_count": 176,
   "metadata": {},
   "outputs": [],
   "source": [
    "data_t = pd.get_dummies(data=data, columns = ['dow','month','country'])\n",
    "data_t = data_t.rename(columns=lambda x: x.strip())"
   ]
  },
  {
   "cell_type": "code",
   "execution_count": 177,
   "metadata": {},
   "outputs": [],
   "source": [
    "predict_t = pd.get_dummies(data=predict, columns = ['dow','month','country'])\n",
    "predict_t = predict_t.rename(columns=lambda x: x.strip())"
   ]
  },
  {
   "cell_type": "code",
   "execution_count": 178,
   "metadata": {},
   "outputs": [],
   "source": [
    "#Make columns match for predict\n",
    "missing_cols = set( data_t.columns ) - set( predict_t.columns )\n",
    "for c in missing_cols:\n",
    "    predict_t[c] = 0"
   ]
  },
  {
   "cell_type": "code",
   "execution_count": 179,
   "metadata": {},
   "outputs": [],
   "source": [
    "features = [col for col in data_t.columns if col !='total_amount' and col !='date']"
   ]
  },
  {
   "cell_type": "code",
   "execution_count": 180,
   "metadata": {},
   "outputs": [],
   "source": [
    "X = data_t[features]\n",
    "X_predict = predict_t[features]\n",
    "\n",
    "\n",
    "y = data_t['total_amount']"
   ]
  },
  {
   "cell_type": "code",
   "execution_count": 181,
   "metadata": {},
   "outputs": [
    {
     "name": "stdout",
     "output_type": "stream",
     "text": [
      "(6975, 44)\n",
      "(6975,)\n",
      "(776, 44)\n",
      "(776,)\n",
      "776\n"
     ]
    }
   ],
   "source": [
    "X_train, X_test, y_train, y_test = train_test_split(X, y,train_size=.9)\n",
    "\n",
    "\n",
    "#something to compare performance. What if I just guess the mean?\n",
    "y_baseline = [data.total_amount.mean()] * len(y_test)\n",
    "\n",
    "\n",
    "print(X_train.shape)\n",
    "print(y_train.shape)\n",
    "\n",
    "print(X_test.shape)\n",
    "print(y_test.shape)\n",
    "\n",
    "print(len(y_baseline))"
   ]
  },
  {
   "cell_type": "code",
   "execution_count": 182,
   "metadata": {},
   "outputs": [
    {
     "name": "stdout",
     "output_type": "stream",
     "text": [
      "R-squared =  0.7061043864392701\n",
      "RMSE =  643194.1842746667\n",
      "Baseline RMSE =  1187219.3459541542\n"
     ]
    }
   ],
   "source": [
    "model = LinearRegression()\n",
    "model.fit(X_train, y_train)\n",
    "\n",
    "\n",
    "y_pred = model.predict(X_test)\n",
    "y_solution = model.predict(X_predict)\n",
    "\n",
    "\n",
    "\n",
    "\n",
    "\n",
    "\n",
    "\n",
    "print(\"R-squared = \", metrics.r2_score(y_test,y_pred)) \n",
    "print(\"RMSE = \",np.sqrt(metrics.mean_squared_error(y_test, y_pred)))\n",
    "print(\"Baseline RMSE = \",np.sqrt(metrics.mean_squared_error(y_test, y_baseline)))"
   ]
  },
  {
   "cell_type": "markdown",
   "metadata": {},
   "source": [
    "Now with a fitted model and some evaluation metrics what do those actually mean.\n",
    "\n",
    "A descently high R2 and a pretty serious improvement on Root Mean Square error compared to guessing the mean\n",
    "\n",
    "But as I mentioned earlier it's the US and then everybody else. A linear model doesn't really seem to be fitting the data"
   ]
  },
  {
   "cell_type": "code",
   "execution_count": 183,
   "metadata": {},
   "outputs": [
    {
     "data": {
      "image/png": "[encoded data removed]",
      "text/plain": [
       "<Figure size 1008x720 with 1 Axes>"
      ]
     },
     "metadata": {
      "needs_background": "light"
     },
     "output_type": "display_data"
    },
    {
     "data": {
      "text/plain": [
       "<Figure size 432x288 with 0 Axes>"
      ]
     },
     "metadata": {},
     "output_type": "display_data"
    }
   ],
   "source": [
    "fig, ax = plt.subplots(nrows=1, ncols=1,figsize = [14,10])\n",
    "visualizer = PredictionError(model)\n",
    "visualizer.fit(X_train, y_train)\n",
    "visualizer.score(X_test, y_test)  # Evaluate the model on the test data\n",
    "g = visualizer.poof()             # Draw/show/poof the data\n",
    "plt.savefig('./Data/LinReg_PredictionError.png') "
   ]
  },
  {
   "cell_type": "code",
   "execution_count": 184,
   "metadata": {},
   "outputs": [
    {
     "data": {
      "image/png": "[encoded data removed]",
      "text/plain": [
       "<Figure size 1008x720 with 2 Axes>"
      ]
     },
     "metadata": {
      "needs_background": "light"
     },
     "output_type": "display_data"
    }
   ],
   "source": [
    "fig, ax = plt.subplots(nrows=1, ncols=1,figsize = [14,10])\n",
    "\n",
    "visualizer = ResidualsPlot(model,ax=ax)\n",
    "visualizer.fit(X_train, y_train)  # Fit the training data to the model\n",
    "visualizer.score(X_test, y_test)  # Evaluate the model on the test data\n",
    "\n",
    "\n",
    "\n",
    "\n",
    "\n",
    "plt.legend()\n",
    "plt.savefig('./Data/LinReg_Residuals.png') "
   ]
  },
  {
   "cell_type": "markdown",
   "metadata": {},
   "source": [
    "Now I wanted to put the predictions back together with the data and see if it makes eyball sense\n",
    "\n",
    "adding y_pred to the test data set\n",
    "\n",
    "adding y_solution to my origin predict DF"
   ]
  },
  {
   "cell_type": "code",
   "execution_count": 185,
   "metadata": {},
   "outputs": [],
   "source": [
    "#set index for predictions with x_test\n",
    "y_pred= pd.DataFrame(y_pred,index=X_test.index)\n",
    "y_pred.rename(columns={y_pred.columns[0]:'Predicted_Amount'}, inplace=True)\n",
    "\n",
    "\n",
    "y_test= pd.DataFrame(y_test,index=X_test.index)\n",
    "y_test.rename(columns={y_test.columns[0]:'Actual_Amount'}, inplace=True)\n",
    "\n",
    "y_solution = pd.DataFrame(y_solution,index=predict.index)\n",
    "y_solution.rename(columns={y_solution.columns[0]:'LinReg_Pred'}, inplace=True)\n",
    "\n",
    "\n",
    "\n",
    "X_test.index.name = 'Id'\n",
    "y_test.index.name = 'Id'\n",
    "\n",
    "y_pred.index.name = 'Id'"
   ]
  },
  {
   "cell_type": "code",
   "execution_count": 186,
   "metadata": {},
   "outputs": [],
   "source": [
    "dfs = (data,y_test,y_pred)\n",
    "results = reduce(lambda left,right: pd.merge(left,right,on = 'Id'),dfs)\n"
   ]
  },
  {
   "cell_type": "code",
   "execution_count": 187,
   "metadata": {},
   "outputs": [
    {
     "data": {
      "text/html": [
       "<div>\n",
       "<style scoped>\n",
       "    .dataframe tbody tr th:only-of-type {\n",
       "        vertical-align: middle;\n",
       "    }\n",
       "\n",
       "    .dataframe tbody tr th {\n",
       "        vertical-align: top;\n",
       "    }\n",
       "\n",
       "    .dataframe thead th {\n",
       "        text-align: right;\n",
       "    }\n",
       "</style>\n",
       "<table border=\"1\" class=\"dataframe\">\n",
       "  <thead>\n",
       "    <tr style=\"text-align: right;\">\n",
       "      <th></th>\n",
       "      <th>date</th>\n",
       "      <th>country</th>\n",
       "      <th>dow</th>\n",
       "      <th>month</th>\n",
       "      <th>total_amount</th>\n",
       "      <th>Actual_Amount</th>\n",
       "      <th>Predicted_Amount</th>\n",
       "    </tr>\n",
       "    <tr>\n",
       "      <th>Id</th>\n",
       "      <th></th>\n",
       "      <th></th>\n",
       "      <th></th>\n",
       "      <th></th>\n",
       "      <th></th>\n",
       "      <th></th>\n",
       "      <th></th>\n",
       "    </tr>\n",
       "  </thead>\n",
       "  <tbody>\n",
       "    <tr>\n",
       "      <th>6918</th>\n",
       "      <td>2018-12-02</td>\n",
       "      <td>CH</td>\n",
       "      <td>sunday</td>\n",
       "      <td>december</td>\n",
       "      <td>6.33</td>\n",
       "      <td>6.33</td>\n",
       "      <td>98048.0</td>\n",
       "    </tr>\n",
       "    <tr>\n",
       "      <th>5476</th>\n",
       "      <td>2018-04-08</td>\n",
       "      <td>CH</td>\n",
       "      <td>sunday</td>\n",
       "      <td>april</td>\n",
       "      <td>10.00</td>\n",
       "      <td>10.00</td>\n",
       "      <td>-66048.0</td>\n",
       "    </tr>\n",
       "    <tr>\n",
       "      <th>6564</th>\n",
       "      <td>2018-09-01</td>\n",
       "      <td>FI</td>\n",
       "      <td>saturday</td>\n",
       "      <td>september</td>\n",
       "      <td>10.47</td>\n",
       "      <td>10.47</td>\n",
       "      <td>-38912.0</td>\n",
       "    </tr>\n",
       "    <tr>\n",
       "      <th>37</th>\n",
       "      <td>2018-06-04</td>\n",
       "      <td>SG</td>\n",
       "      <td>monday</td>\n",
       "      <td>june</td>\n",
       "      <td>10.82</td>\n",
       "      <td>10.82</td>\n",
       "      <td>205568.0</td>\n",
       "    </tr>\n",
       "    <tr>\n",
       "      <th>6802</th>\n",
       "      <td>2018-01-03</td>\n",
       "      <td>IE</td>\n",
       "      <td>wednesday</td>\n",
       "      <td>january</td>\n",
       "      <td>11.40</td>\n",
       "      <td>11.40</td>\n",
       "      <td>-109568.0</td>\n",
       "    </tr>\n",
       "    <tr>\n",
       "      <th>...</th>\n",
       "      <td>...</td>\n",
       "      <td>...</td>\n",
       "      <td>...</td>\n",
       "      <td>...</td>\n",
       "      <td>...</td>\n",
       "      <td>...</td>\n",
       "      <td>...</td>\n",
       "    </tr>\n",
       "    <tr>\n",
       "      <th>3476</th>\n",
       "      <td>2018-03-05</td>\n",
       "      <td>NL</td>\n",
       "      <td>monday</td>\n",
       "      <td>march</td>\n",
       "      <td>199.15</td>\n",
       "      <td>199.15</td>\n",
       "      <td>116992.0</td>\n",
       "    </tr>\n",
       "    <tr>\n",
       "      <th>2906</th>\n",
       "      <td>2018-04-21</td>\n",
       "      <td>SG</td>\n",
       "      <td>saturday</td>\n",
       "      <td>april</td>\n",
       "      <td>204.59</td>\n",
       "      <td>204.59</td>\n",
       "      <td>-146176.0</td>\n",
       "    </tr>\n",
       "    <tr>\n",
       "      <th>624</th>\n",
       "      <td>2017-12-31</td>\n",
       "      <td>NL</td>\n",
       "      <td>sunday</td>\n",
       "      <td>december</td>\n",
       "      <td>207.52</td>\n",
       "      <td>207.52</td>\n",
       "      <td>113408.0</td>\n",
       "    </tr>\n",
       "    <tr>\n",
       "      <th>7092</th>\n",
       "      <td>2018-03-22</td>\n",
       "      <td>PT</td>\n",
       "      <td>thursday</td>\n",
       "      <td>march</td>\n",
       "      <td>210.35</td>\n",
       "      <td>210.35</td>\n",
       "      <td>-122112.0</td>\n",
       "    </tr>\n",
       "    <tr>\n",
       "      <th>7560</th>\n",
       "      <td>2018-05-18</td>\n",
       "      <td>CH</td>\n",
       "      <td>friday</td>\n",
       "      <td>may</td>\n",
       "      <td>211.22</td>\n",
       "      <td>211.22</td>\n",
       "      <td>-177664.0</td>\n",
       "    </tr>\n",
       "  </tbody>\n",
       "</table>\n",
       "<p>75 rows × 7 columns</p>\n",
       "</div>"
      ],
      "text/plain": [
       "           date country        dow      month  total_amount  Actual_Amount  \\\n",
       "Id                                                                           \n",
       "6918 2018-12-02      CH  sunday     december           6.33           6.33   \n",
       "5476 2018-04-08      CH  sunday     april             10.00          10.00   \n",
       "6564 2018-09-01      FI  saturday   september         10.47          10.47   \n",
       "37   2018-06-04      SG  monday     june              10.82          10.82   \n",
       "6802 2018-01-03      IE  wednesday  january           11.40          11.40   \n",
       "...         ...     ...        ...        ...           ...            ...   \n",
       "3476 2018-03-05      NL  monday     march            199.15         199.15   \n",
       "2906 2018-04-21      SG  saturday   april            204.59         204.59   \n",
       "624  2017-12-31      NL  sunday     december         207.52         207.52   \n",
       "7092 2018-03-22      PT  thursday   march            210.35         210.35   \n",
       "7560 2018-05-18      CH  friday     may              211.22         211.22   \n",
       "\n",
       "      Predicted_Amount  \n",
       "Id                      \n",
       "6918           98048.0  \n",
       "5476          -66048.0  \n",
       "6564          -38912.0  \n",
       "37            205568.0  \n",
       "6802         -109568.0  \n",
       "...                ...  \n",
       "3476          116992.0  \n",
       "2906         -146176.0  \n",
       "624           113408.0  \n",
       "7092         -122112.0  \n",
       "7560         -177664.0  \n",
       "\n",
       "[75 rows x 7 columns]"
      ]
     },
     "execution_count": 187,
     "metadata": {},
     "output_type": "execute_result"
    }
   ],
   "source": [
    "results.sort_values(by='Actual_Amount',ascending=True)[:75]"
   ]
  },
  {
   "cell_type": "code",
   "execution_count": 188,
   "metadata": {},
   "outputs": [],
   "source": [
    "dfs = (predict,y_solution)\n",
    "answer = reduce(lambda left,right: pd.merge(left,right,on = 'Id'),dfs)\n",
    "answer.drop(columns=['dow','month'],inplace=True)\n"
   ]
  },
  {
   "cell_type": "markdown",
   "metadata": {},
   "source": [
    "### Question 1:\n",
    "### Using the data provided, please provide an estimate for the amount of money we should expect to be paid out to each country  on Jan. 1, 2019 (the day after the last day in the dataset).\n",
    "\n",
    "A prediction of 4.6 (5) Millon from the US and 0 from all the other countries is a prediction, but not confident that's the best we could do\n",
    "\n",
    "Negative values make sense in terms of the linear model, but not so much in the actual world.\n",
    "\n"
   ]
  },
  {
   "cell_type": "code",
   "execution_count": 189,
   "metadata": {},
   "outputs": [
    {
     "data": {
      "text/html": [
       "<div>\n",
       "<style scoped>\n",
       "    .dataframe tbody tr th:only-of-type {\n",
       "        vertical-align: middle;\n",
       "    }\n",
       "\n",
       "    .dataframe tbody tr th {\n",
       "        vertical-align: top;\n",
       "    }\n",
       "\n",
       "    .dataframe thead th {\n",
       "        text-align: right;\n",
       "    }\n",
       "</style>\n",
       "<table border=\"1\" class=\"dataframe\">\n",
       "  <thead>\n",
       "    <tr style=\"text-align: right;\">\n",
       "      <th></th>\n",
       "      <th>date</th>\n",
       "      <th>country</th>\n",
       "      <th>LinReg_Pred</th>\n",
       "    </tr>\n",
       "    <tr>\n",
       "      <th>Id</th>\n",
       "      <th></th>\n",
       "      <th></th>\n",
       "      <th></th>\n",
       "    </tr>\n",
       "  </thead>\n",
       "  <tbody>\n",
       "    <tr>\n",
       "      <th>8</th>\n",
       "      <td>2019-01-01</td>\n",
       "      <td>US</td>\n",
       "      <td>4624896.0</td>\n",
       "    </tr>\n",
       "    <tr>\n",
       "      <th>11</th>\n",
       "      <td>2019-01-01</td>\n",
       "      <td>CA</td>\n",
       "      <td>17408.0</td>\n",
       "    </tr>\n",
       "    <tr>\n",
       "      <th>9</th>\n",
       "      <td>2019-01-01</td>\n",
       "      <td>FR</td>\n",
       "      <td>12288.0</td>\n",
       "    </tr>\n",
       "    <tr>\n",
       "      <th>12</th>\n",
       "      <td>2019-01-01</td>\n",
       "      <td>GB</td>\n",
       "      <td>9728.0</td>\n",
       "    </tr>\n",
       "    <tr>\n",
       "      <th>21</th>\n",
       "      <td>2019-01-01</td>\n",
       "      <td>AU</td>\n",
       "      <td>-13824.0</td>\n",
       "    </tr>\n",
       "    <tr>\n",
       "      <th>20</th>\n",
       "      <td>2019-01-01</td>\n",
       "      <td>ES</td>\n",
       "      <td>-29696.0</td>\n",
       "    </tr>\n",
       "    <tr>\n",
       "      <th>23</th>\n",
       "      <td>2019-01-01</td>\n",
       "      <td>JP</td>\n",
       "      <td>-30976.0</td>\n",
       "    </tr>\n",
       "    <tr>\n",
       "      <th>7</th>\n",
       "      <td>2019-01-01</td>\n",
       "      <td>SG</td>\n",
       "      <td>-31488.0</td>\n",
       "    </tr>\n",
       "    <tr>\n",
       "      <th>6</th>\n",
       "      <td>2019-01-01</td>\n",
       "      <td>DE</td>\n",
       "      <td>-34816.0</td>\n",
       "    </tr>\n",
       "    <tr>\n",
       "      <th>2</th>\n",
       "      <td>2019-01-01</td>\n",
       "      <td>SE</td>\n",
       "      <td>-35328.0</td>\n",
       "    </tr>\n",
       "    <tr>\n",
       "      <th>16</th>\n",
       "      <td>2019-01-01</td>\n",
       "      <td>BE</td>\n",
       "      <td>-36352.0</td>\n",
       "    </tr>\n",
       "    <tr>\n",
       "      <th>22</th>\n",
       "      <td>2019-01-01</td>\n",
       "      <td>NO</td>\n",
       "      <td>-37888.0</td>\n",
       "    </tr>\n",
       "    <tr>\n",
       "      <th>0</th>\n",
       "      <td>2019-01-01</td>\n",
       "      <td>IE</td>\n",
       "      <td>-38400.0</td>\n",
       "    </tr>\n",
       "    <tr>\n",
       "      <th>5</th>\n",
       "      <td>2019-01-01</td>\n",
       "      <td>HK</td>\n",
       "      <td>-39680.0</td>\n",
       "    </tr>\n",
       "    <tr>\n",
       "      <th>10</th>\n",
       "      <td>2019-01-01</td>\n",
       "      <td>NZ</td>\n",
       "      <td>-40704.0</td>\n",
       "    </tr>\n",
       "    <tr>\n",
       "      <th>15</th>\n",
       "      <td>2019-01-01</td>\n",
       "      <td>DK</td>\n",
       "      <td>-41728.0</td>\n",
       "    </tr>\n",
       "    <tr>\n",
       "      <th>1</th>\n",
       "      <td>2019-01-01</td>\n",
       "      <td>BR</td>\n",
       "      <td>-41728.0</td>\n",
       "    </tr>\n",
       "    <tr>\n",
       "      <th>4</th>\n",
       "      <td>2019-01-01</td>\n",
       "      <td>IT</td>\n",
       "      <td>-43008.0</td>\n",
       "    </tr>\n",
       "    <tr>\n",
       "      <th>13</th>\n",
       "      <td>2019-01-01</td>\n",
       "      <td>NL</td>\n",
       "      <td>-45056.0</td>\n",
       "    </tr>\n",
       "    <tr>\n",
       "      <th>3</th>\n",
       "      <td>2019-01-01</td>\n",
       "      <td>FI</td>\n",
       "      <td>-46592.0</td>\n",
       "    </tr>\n",
       "    <tr>\n",
       "      <th>14</th>\n",
       "      <td>2019-01-01</td>\n",
       "      <td>AT</td>\n",
       "      <td>-53504.0</td>\n",
       "    </tr>\n",
       "    <tr>\n",
       "      <th>19</th>\n",
       "      <td>2019-01-01</td>\n",
       "      <td>CH</td>\n",
       "      <td>-60416.0</td>\n",
       "    </tr>\n",
       "    <tr>\n",
       "      <th>18</th>\n",
       "      <td>2019-01-01</td>\n",
       "      <td>PT</td>\n",
       "      <td>-69120.0</td>\n",
       "    </tr>\n",
       "    <tr>\n",
       "      <th>17</th>\n",
       "      <td>2019-01-01</td>\n",
       "      <td>MX</td>\n",
       "      <td>-81920.0</td>\n",
       "    </tr>\n",
       "    <tr>\n",
       "      <th>24</th>\n",
       "      <td>2019-01-01</td>\n",
       "      <td>LU</td>\n",
       "      <td>-143104.0</td>\n",
       "    </tr>\n",
       "  </tbody>\n",
       "</table>\n",
       "</div>"
      ],
      "text/plain": [
       "         date country  LinReg_Pred\n",
       "Id                                \n",
       "8  2019-01-01      US    4624896.0\n",
       "11 2019-01-01      CA      17408.0\n",
       "9  2019-01-01      FR      12288.0\n",
       "12 2019-01-01      GB       9728.0\n",
       "21 2019-01-01      AU     -13824.0\n",
       "20 2019-01-01      ES     -29696.0\n",
       "23 2019-01-01      JP     -30976.0\n",
       "7  2019-01-01      SG     -31488.0\n",
       "6  2019-01-01      DE     -34816.0\n",
       "2  2019-01-01      SE     -35328.0\n",
       "16 2019-01-01      BE     -36352.0\n",
       "22 2019-01-01      NO     -37888.0\n",
       "0  2019-01-01      IE     -38400.0\n",
       "5  2019-01-01      HK     -39680.0\n",
       "10 2019-01-01      NZ     -40704.0\n",
       "15 2019-01-01      DK     -41728.0\n",
       "1  2019-01-01      BR     -41728.0\n",
       "4  2019-01-01      IT     -43008.0\n",
       "13 2019-01-01      NL     -45056.0\n",
       "3  2019-01-01      FI     -46592.0\n",
       "14 2019-01-01      AT     -53504.0\n",
       "19 2019-01-01      CH     -60416.0\n",
       "18 2019-01-01      PT     -69120.0\n",
       "17 2019-01-01      MX     -81920.0\n",
       "24 2019-01-01      LU    -143104.0"
      ]
     },
     "execution_count": 189,
     "metadata": {},
     "output_type": "execute_result"
    }
   ],
   "source": [
    "answer.sort_values(by='LinReg_Pred',ascending=False)"
   ]
  },
  {
   "cell_type": "markdown",
   "metadata": {},
   "source": [
    "I wanted to do some moving averages as an eyeball test to put the 4.6 million from the linear regression into context"
   ]
  },
  {
   "cell_type": "code",
   "execution_count": 190,
   "metadata": {},
   "outputs": [
    {
     "name": "stdout",
     "output_type": "stream",
     "text": [
      "The latest 4 week moving average is: 7106806\n"
     ]
    }
   ],
   "source": [
    "ma = data[['date','total_amount']]\n",
    "ma = ma.set_index('date')\n",
    "ma = ma.resample('D').sum()\n",
    "ma['moving_average']=ma.rolling(window=28,center=False).mean()\n",
    "total = ma.loc['12/30/2018'].moving_average\n",
    "print('The latest 4 week moving average is: {}'.format(int(total)))"
   ]
  },
  {
   "cell_type": "code",
   "execution_count": 191,
   "metadata": {},
   "outputs": [
    {
     "data": {
      "text/html": [
       "<div>\n",
       "<style scoped>\n",
       "    .dataframe tbody tr th:only-of-type {\n",
       "        vertical-align: middle;\n",
       "    }\n",
       "\n",
       "    .dataframe tbody tr th {\n",
       "        vertical-align: top;\n",
       "    }\n",
       "\n",
       "    .dataframe thead th {\n",
       "        text-align: right;\n",
       "    }\n",
       "</style>\n",
       "<table border=\"1\" class=\"dataframe\">\n",
       "  <thead>\n",
       "    <tr style=\"text-align: right;\">\n",
       "      <th></th>\n",
       "      <th>total_amount</th>\n",
       "      <th>moving_average</th>\n",
       "    </tr>\n",
       "    <tr>\n",
       "      <th>date</th>\n",
       "      <th></th>\n",
       "      <th></th>\n",
       "    </tr>\n",
       "  </thead>\n",
       "  <tbody>\n",
       "    <tr>\n",
       "      <th>2018-12-01</th>\n",
       "      <td>2920584.32</td>\n",
       "      <td>5.029007e+06</td>\n",
       "    </tr>\n",
       "    <tr>\n",
       "      <th>2018-12-02</th>\n",
       "      <td>7938212.47</td>\n",
       "      <td>5.096843e+06</td>\n",
       "    </tr>\n",
       "    <tr>\n",
       "      <th>2018-12-03</th>\n",
       "      <td>15468400.37</td>\n",
       "      <td>5.295630e+06</td>\n",
       "    </tr>\n",
       "    <tr>\n",
       "      <th>2018-12-04</th>\n",
       "      <td>4586631.56</td>\n",
       "      <td>5.254200e+06</td>\n",
       "    </tr>\n",
       "    <tr>\n",
       "      <th>2018-12-05</th>\n",
       "      <td>7412860.13</td>\n",
       "      <td>5.306083e+06</td>\n",
       "    </tr>\n",
       "    <tr>\n",
       "      <th>2018-12-06</th>\n",
       "      <td>5727007.69</td>\n",
       "      <td>5.368211e+06</td>\n",
       "    </tr>\n",
       "    <tr>\n",
       "      <th>2018-12-07</th>\n",
       "      <td>1391164.13</td>\n",
       "      <td>5.361860e+06</td>\n",
       "    </tr>\n",
       "    <tr>\n",
       "      <th>2018-12-08</th>\n",
       "      <td>3366895.25</td>\n",
       "      <td>5.429956e+06</td>\n",
       "    </tr>\n",
       "    <tr>\n",
       "      <th>2018-12-09</th>\n",
       "      <td>14432180.46</td>\n",
       "      <td>5.835377e+06</td>\n",
       "    </tr>\n",
       "    <tr>\n",
       "      <th>2018-12-10</th>\n",
       "      <td>10621688.59</td>\n",
       "      <td>6.015485e+06</td>\n",
       "    </tr>\n",
       "    <tr>\n",
       "      <th>2018-12-11</th>\n",
       "      <td>10433349.81</td>\n",
       "      <td>5.858078e+06</td>\n",
       "    </tr>\n",
       "    <tr>\n",
       "      <th>2018-12-12</th>\n",
       "      <td>6248002.16</td>\n",
       "      <td>5.944667e+06</td>\n",
       "    </tr>\n",
       "    <tr>\n",
       "      <th>2018-12-13</th>\n",
       "      <td>3162543.64</td>\n",
       "      <td>5.928546e+06</td>\n",
       "    </tr>\n",
       "    <tr>\n",
       "      <th>2018-12-14</th>\n",
       "      <td>1261731.35</td>\n",
       "      <td>5.915569e+06</td>\n",
       "    </tr>\n",
       "    <tr>\n",
       "      <th>2018-12-15</th>\n",
       "      <td>2894037.55</td>\n",
       "      <td>5.890004e+06</td>\n",
       "    </tr>\n",
       "    <tr>\n",
       "      <th>2018-12-16</th>\n",
       "      <td>10053143.33</td>\n",
       "      <td>6.091955e+06</td>\n",
       "    </tr>\n",
       "    <tr>\n",
       "      <th>2018-12-17</th>\n",
       "      <td>14266662.77</td>\n",
       "      <td>6.162263e+06</td>\n",
       "    </tr>\n",
       "    <tr>\n",
       "      <th>2018-12-18</th>\n",
       "      <td>7034399.17</td>\n",
       "      <td>6.231965e+06</td>\n",
       "    </tr>\n",
       "    <tr>\n",
       "      <th>2018-12-19</th>\n",
       "      <td>4659466.22</td>\n",
       "      <td>6.283172e+06</td>\n",
       "    </tr>\n",
       "    <tr>\n",
       "      <th>2018-12-20</th>\n",
       "      <td>7029714.34</td>\n",
       "      <td>6.439547e+06</td>\n",
       "    </tr>\n",
       "    <tr>\n",
       "      <th>2018-12-21</th>\n",
       "      <td>1621806.91</td>\n",
       "      <td>6.461921e+06</td>\n",
       "    </tr>\n",
       "    <tr>\n",
       "      <th>2018-12-22</th>\n",
       "      <td>3371492.93</td>\n",
       "      <td>6.470611e+06</td>\n",
       "    </tr>\n",
       "    <tr>\n",
       "      <th>2018-12-23</th>\n",
       "      <td>14021415.96</td>\n",
       "      <td>6.642511e+06</td>\n",
       "    </tr>\n",
       "    <tr>\n",
       "      <th>2018-12-24</th>\n",
       "      <td>4687373.76</td>\n",
       "      <td>6.458731e+06</td>\n",
       "    </tr>\n",
       "    <tr>\n",
       "      <th>2018-12-25</th>\n",
       "      <td>15979814.56</td>\n",
       "      <td>6.837359e+06</td>\n",
       "    </tr>\n",
       "    <tr>\n",
       "      <th>2018-12-26</th>\n",
       "      <td>6357951.11</td>\n",
       "      <td>6.871061e+06</td>\n",
       "    </tr>\n",
       "    <tr>\n",
       "      <th>2018-12-27</th>\n",
       "      <td>4895911.21</td>\n",
       "      <td>6.897564e+06</td>\n",
       "    </tr>\n",
       "    <tr>\n",
       "      <th>2018-12-28</th>\n",
       "      <td>2268539.51</td>\n",
       "      <td>6.932606e+06</td>\n",
       "    </tr>\n",
       "    <tr>\n",
       "      <th>2018-12-29</th>\n",
       "      <td>3850129.38</td>\n",
       "      <td>6.965805e+06</td>\n",
       "    </tr>\n",
       "    <tr>\n",
       "      <th>2018-12-30</th>\n",
       "      <td>11886279.44</td>\n",
       "      <td>7.106807e+06</td>\n",
       "    </tr>\n",
       "  </tbody>\n",
       "</table>\n",
       "</div>"
      ],
      "text/plain": [
       "            total_amount  moving_average\n",
       "date                                    \n",
       "2018-12-01    2920584.32    5.029007e+06\n",
       "2018-12-02    7938212.47    5.096843e+06\n",
       "2018-12-03   15468400.37    5.295630e+06\n",
       "2018-12-04    4586631.56    5.254200e+06\n",
       "2018-12-05    7412860.13    5.306083e+06\n",
       "2018-12-06    5727007.69    5.368211e+06\n",
       "2018-12-07    1391164.13    5.361860e+06\n",
       "2018-12-08    3366895.25    5.429956e+06\n",
       "2018-12-09   14432180.46    5.835377e+06\n",
       "2018-12-10   10621688.59    6.015485e+06\n",
       "2018-12-11   10433349.81    5.858078e+06\n",
       "2018-12-12    6248002.16    5.944667e+06\n",
       "2018-12-13    3162543.64    5.928546e+06\n",
       "2018-12-14    1261731.35    5.915569e+06\n",
       "2018-12-15    2894037.55    5.890004e+06\n",
       "2018-12-16   10053143.33    6.091955e+06\n",
       "2018-12-17   14266662.77    6.162263e+06\n",
       "2018-12-18    7034399.17    6.231965e+06\n",
       "2018-12-19    4659466.22    6.283172e+06\n",
       "2018-12-20    7029714.34    6.439547e+06\n",
       "2018-12-21    1621806.91    6.461921e+06\n",
       "2018-12-22    3371492.93    6.470611e+06\n",
       "2018-12-23   14021415.96    6.642511e+06\n",
       "2018-12-24    4687373.76    6.458731e+06\n",
       "2018-12-25   15979814.56    6.837359e+06\n",
       "2018-12-26    6357951.11    6.871061e+06\n",
       "2018-12-27    4895911.21    6.897564e+06\n",
       "2018-12-28    2268539.51    6.932606e+06\n",
       "2018-12-29    3850129.38    6.965805e+06\n",
       "2018-12-30   11886279.44    7.106807e+06"
      ]
     },
     "execution_count": 191,
     "metadata": {},
     "output_type": "execute_result"
    }
   ],
   "source": [
    "ma.loc['12/1/2018':'12/30/2018']"
   ]
  },
  {
   "cell_type": "code",
   "execution_count": 192,
   "metadata": {},
   "outputs": [
    {
     "data": {
      "image/png": "[encoded data removed]",
      "text/plain": [
       "<Figure size 1008x432 with 1 Axes>"
      ]
     },
     "metadata": {
      "needs_background": "light"
     },
     "output_type": "display_data"
    }
   ],
   "source": [
    "fig, ax = plt.subplots(nrows=1, ncols=1,figsize = [14,6],)\n",
    "\n",
    "sns.lineplot(x=ma.index, y = 'total_amount',color='#0066ff', data = ma,ax=ax  )\n",
    "sns.lineplot(x=ma.index, y = 'moving_average',color='#1bdb65', data = ma,ax=ax  )\n",
    "plt.savefig('./Data/AllCountry_MovingAverage.png') "
   ]
  },
  {
   "cell_type": "markdown",
   "metadata": {},
   "source": [
    "In order to come up with a best guess I decided to spread an amount across the non-US countries.\n",
    "\n",
    "I took the latest Moving average from above\n",
    "\n",
    "Subtracted the LinReg_Pred of the US\n",
    "\n",
    "Divided it by the number of non us Contries\n",
    "\n",
    "Added that to the LinReg_Pred"
   ]
  },
  {
   "cell_type": "code",
   "execution_count": 193,
   "metadata": {},
   "outputs": [
    {
     "name": "stdout",
     "output_type": "stream",
     "text": [
      "The most recent 4 week moving average is: 7106806\n",
      "Subtract the LinReg_Pred for the US: 2481910\n",
      "Divde that by the number of remaining countries: 103412\n"
     ]
    }
   ],
   "source": [
    "print('The most recent 4 week moving average is: {}'.format(int(total)))\n",
    "\n",
    "total = int(total - answer[answer['country']=='US']['LinReg_Pred'])\n",
    "\n",
    "print('Subtract the LinReg_Pred for the US: {}'.format(int(total)))\n",
    "\n",
    "total = total/(len(answer)-1)\n",
    "\n",
    "print('Divde that by the number of remaining countries: {}'.format(int(total)))\n",
    "answer['Best_Guess']=0"
   ]
  },
  {
   "cell_type": "code",
   "execution_count": 194,
   "metadata": {},
   "outputs": [
    {
     "name": "stderr",
     "output_type": "stream",
     "text": [
      "C:\\Users\\User\\anaconda3\\lib\\site-packages\\pandas\\core\\indexing.py:670: SettingWithCopyWarning: \n",
      "A value is trying to be set on a copy of a slice from a DataFrame\n",
      "\n",
      "See the caveats in the documentation: https://pandas.pydata.org/pandas-docs/stable/user_guide/indexing.html#returning-a-view-versus-a-copy\n",
      "  self._setitem_with_indexer(indexer, value)\n"
     ]
    }
   ],
   "source": [
    "for index, row in answer.iterrows():\n",
    "    if row['country'] == 'US':\n",
    "         answer.Best_Guess.iloc[index] = int(row['LinReg_Pred'])\n",
    "    else:\n",
    "        answer.Best_Guess.iloc[index] = int((total+row['LinReg_Pred']))\n",
    "           \n"
   ]
  },
  {
   "cell_type": "code",
   "execution_count": 195,
   "metadata": {},
   "outputs": [],
   "source": [
    "answer.to_csv('./data/Q1_answers.csv')"
   ]
  },
  {
   "cell_type": "code",
   "execution_count": 196,
   "metadata": {},
   "outputs": [
    {
     "data": {
      "text/html": [
       "<div>\n",
       "<style scoped>\n",
       "    .dataframe tbody tr th:only-of-type {\n",
       "        vertical-align: middle;\n",
       "    }\n",
       "\n",
       "    .dataframe tbody tr th {\n",
       "        vertical-align: top;\n",
       "    }\n",
       "\n",
       "    .dataframe thead th {\n",
       "        text-align: right;\n",
       "    }\n",
       "</style>\n",
       "<table border=\"1\" class=\"dataframe\">\n",
       "  <thead>\n",
       "    <tr style=\"text-align: right;\">\n",
       "      <th></th>\n",
       "      <th>date</th>\n",
       "      <th>country</th>\n",
       "      <th>LinReg_Pred</th>\n",
       "      <th>Best_Guess</th>\n",
       "    </tr>\n",
       "    <tr>\n",
       "      <th>Id</th>\n",
       "      <th></th>\n",
       "      <th></th>\n",
       "      <th></th>\n",
       "      <th></th>\n",
       "    </tr>\n",
       "  </thead>\n",
       "  <tbody>\n",
       "    <tr>\n",
       "      <th>0</th>\n",
       "      <td>2019-01-01</td>\n",
       "      <td>IE</td>\n",
       "      <td>-38400.0</td>\n",
       "      <td>65012</td>\n",
       "    </tr>\n",
       "    <tr>\n",
       "      <th>1</th>\n",
       "      <td>2019-01-01</td>\n",
       "      <td>BR</td>\n",
       "      <td>-41728.0</td>\n",
       "      <td>61684</td>\n",
       "    </tr>\n",
       "    <tr>\n",
       "      <th>2</th>\n",
       "      <td>2019-01-01</td>\n",
       "      <td>SE</td>\n",
       "      <td>-35328.0</td>\n",
       "      <td>68084</td>\n",
       "    </tr>\n",
       "    <tr>\n",
       "      <th>3</th>\n",
       "      <td>2019-01-01</td>\n",
       "      <td>FI</td>\n",
       "      <td>-46592.0</td>\n",
       "      <td>56820</td>\n",
       "    </tr>\n",
       "    <tr>\n",
       "      <th>4</th>\n",
       "      <td>2019-01-01</td>\n",
       "      <td>IT</td>\n",
       "      <td>-43008.0</td>\n",
       "      <td>60404</td>\n",
       "    </tr>\n",
       "    <tr>\n",
       "      <th>5</th>\n",
       "      <td>2019-01-01</td>\n",
       "      <td>HK</td>\n",
       "      <td>-39680.0</td>\n",
       "      <td>63732</td>\n",
       "    </tr>\n",
       "    <tr>\n",
       "      <th>6</th>\n",
       "      <td>2019-01-01</td>\n",
       "      <td>DE</td>\n",
       "      <td>-34816.0</td>\n",
       "      <td>68596</td>\n",
       "    </tr>\n",
       "    <tr>\n",
       "      <th>7</th>\n",
       "      <td>2019-01-01</td>\n",
       "      <td>SG</td>\n",
       "      <td>-31488.0</td>\n",
       "      <td>71924</td>\n",
       "    </tr>\n",
       "    <tr>\n",
       "      <th>8</th>\n",
       "      <td>2019-01-01</td>\n",
       "      <td>US</td>\n",
       "      <td>4624896.0</td>\n",
       "      <td>4624896</td>\n",
       "    </tr>\n",
       "    <tr>\n",
       "      <th>9</th>\n",
       "      <td>2019-01-01</td>\n",
       "      <td>FR</td>\n",
       "      <td>12288.0</td>\n",
       "      <td>115700</td>\n",
       "    </tr>\n",
       "    <tr>\n",
       "      <th>10</th>\n",
       "      <td>2019-01-01</td>\n",
       "      <td>NZ</td>\n",
       "      <td>-40704.0</td>\n",
       "      <td>62708</td>\n",
       "    </tr>\n",
       "    <tr>\n",
       "      <th>11</th>\n",
       "      <td>2019-01-01</td>\n",
       "      <td>CA</td>\n",
       "      <td>17408.0</td>\n",
       "      <td>120820</td>\n",
       "    </tr>\n",
       "    <tr>\n",
       "      <th>12</th>\n",
       "      <td>2019-01-01</td>\n",
       "      <td>GB</td>\n",
       "      <td>9728.0</td>\n",
       "      <td>113140</td>\n",
       "    </tr>\n",
       "    <tr>\n",
       "      <th>13</th>\n",
       "      <td>2019-01-01</td>\n",
       "      <td>NL</td>\n",
       "      <td>-45056.0</td>\n",
       "      <td>58356</td>\n",
       "    </tr>\n",
       "    <tr>\n",
       "      <th>14</th>\n",
       "      <td>2019-01-01</td>\n",
       "      <td>AT</td>\n",
       "      <td>-53504.0</td>\n",
       "      <td>49908</td>\n",
       "    </tr>\n",
       "    <tr>\n",
       "      <th>15</th>\n",
       "      <td>2019-01-01</td>\n",
       "      <td>DK</td>\n",
       "      <td>-41728.0</td>\n",
       "      <td>61684</td>\n",
       "    </tr>\n",
       "    <tr>\n",
       "      <th>16</th>\n",
       "      <td>2019-01-01</td>\n",
       "      <td>BE</td>\n",
       "      <td>-36352.0</td>\n",
       "      <td>67060</td>\n",
       "    </tr>\n",
       "    <tr>\n",
       "      <th>17</th>\n",
       "      <td>2019-01-01</td>\n",
       "      <td>MX</td>\n",
       "      <td>-81920.0</td>\n",
       "      <td>21492</td>\n",
       "    </tr>\n",
       "    <tr>\n",
       "      <th>18</th>\n",
       "      <td>2019-01-01</td>\n",
       "      <td>PT</td>\n",
       "      <td>-69120.0</td>\n",
       "      <td>34292</td>\n",
       "    </tr>\n",
       "    <tr>\n",
       "      <th>19</th>\n",
       "      <td>2019-01-01</td>\n",
       "      <td>CH</td>\n",
       "      <td>-60416.0</td>\n",
       "      <td>42996</td>\n",
       "    </tr>\n",
       "    <tr>\n",
       "      <th>20</th>\n",
       "      <td>2019-01-01</td>\n",
       "      <td>ES</td>\n",
       "      <td>-29696.0</td>\n",
       "      <td>73716</td>\n",
       "    </tr>\n",
       "    <tr>\n",
       "      <th>21</th>\n",
       "      <td>2019-01-01</td>\n",
       "      <td>AU</td>\n",
       "      <td>-13824.0</td>\n",
       "      <td>89588</td>\n",
       "    </tr>\n",
       "    <tr>\n",
       "      <th>22</th>\n",
       "      <td>2019-01-01</td>\n",
       "      <td>NO</td>\n",
       "      <td>-37888.0</td>\n",
       "      <td>65524</td>\n",
       "    </tr>\n",
       "    <tr>\n",
       "      <th>23</th>\n",
       "      <td>2019-01-01</td>\n",
       "      <td>JP</td>\n",
       "      <td>-30976.0</td>\n",
       "      <td>72436</td>\n",
       "    </tr>\n",
       "    <tr>\n",
       "      <th>24</th>\n",
       "      <td>2019-01-01</td>\n",
       "      <td>LU</td>\n",
       "      <td>-143104.0</td>\n",
       "      <td>-39691</td>\n",
       "    </tr>\n",
       "  </tbody>\n",
       "</table>\n",
       "</div>"
      ],
      "text/plain": [
       "         date country  LinReg_Pred  Best_Guess\n",
       "Id                                            \n",
       "0  2019-01-01      IE     -38400.0       65012\n",
       "1  2019-01-01      BR     -41728.0       61684\n",
       "2  2019-01-01      SE     -35328.0       68084\n",
       "3  2019-01-01      FI     -46592.0       56820\n",
       "4  2019-01-01      IT     -43008.0       60404\n",
       "5  2019-01-01      HK     -39680.0       63732\n",
       "6  2019-01-01      DE     -34816.0       68596\n",
       "7  2019-01-01      SG     -31488.0       71924\n",
       "8  2019-01-01      US    4624896.0     4624896\n",
       "9  2019-01-01      FR      12288.0      115700\n",
       "10 2019-01-01      NZ     -40704.0       62708\n",
       "11 2019-01-01      CA      17408.0      120820\n",
       "12 2019-01-01      GB       9728.0      113140\n",
       "13 2019-01-01      NL     -45056.0       58356\n",
       "14 2019-01-01      AT     -53504.0       49908\n",
       "15 2019-01-01      DK     -41728.0       61684\n",
       "16 2019-01-01      BE     -36352.0       67060\n",
       "17 2019-01-01      MX     -81920.0       21492\n",
       "18 2019-01-01      PT     -69120.0       34292\n",
       "19 2019-01-01      CH     -60416.0       42996\n",
       "20 2019-01-01      ES     -29696.0       73716\n",
       "21 2019-01-01      AU     -13824.0       89588\n",
       "22 2019-01-01      NO     -37888.0       65524\n",
       "23 2019-01-01      JP     -30976.0       72436\n",
       "24 2019-01-01      LU    -143104.0      -39691"
      ]
     },
     "execution_count": 196,
     "metadata": {},
     "output_type": "execute_result"
    }
   ],
   "source": [
    "answer"
   ]
  },
  {
   "cell_type": "markdown",
   "metadata": {},
   "source": [
    "Question 2:\n",
    "\n",
    "Assume that one year from now, we will have 15 platforms from the Education industry, 5 from Hotels, Restaurants & Leisure and 40 from Food & Beverage. How much total payout volume do you expect to see on a typical day, from these three industries?\n"
   ]
  },
  {
   "cell_type": "code",
   "execution_count": 197,
   "metadata": {},
   "outputs": [],
   "source": [
    "sql = '''\n",
    "select \n",
    "i.industry\n",
    ",count(distinct platform_id) as platforms\n",
    ",count(p.platform_id) as transactions\n",
    ",sum(amount/100)::DECIMAL(18, 2) as amount\n",
    "from mint.payouts p\n",
    "    right join mint.industries i\n",
    "        on p.recipient_id = i.merchant_id\n",
    "\n",
    "where i.industry in ('hotels, restaurants & leisure','Food & Beverage','Education')\n",
    "group by i.industry\n",
    "\n",
    "'''"
   ]
  },
  {
   "cell_type": "code",
   "execution_count": 198,
   "metadata": {},
   "outputs": [
    {
     "data": {
      "text/html": [
       "<div>\n",
       "<style scoped>\n",
       "    .dataframe tbody tr th:only-of-type {\n",
       "        vertical-align: middle;\n",
       "    }\n",
       "\n",
       "    .dataframe tbody tr th {\n",
       "        vertical-align: top;\n",
       "    }\n",
       "\n",
       "    .dataframe thead th {\n",
       "        text-align: right;\n",
       "    }\n",
       "</style>\n",
       "<table border=\"1\" class=\"dataframe\">\n",
       "  <thead>\n",
       "    <tr style=\"text-align: right;\">\n",
       "      <th></th>\n",
       "      <th>industry</th>\n",
       "      <th>platforms</th>\n",
       "      <th>transactions</th>\n",
       "      <th>amount</th>\n",
       "    </tr>\n",
       "  </thead>\n",
       "  <tbody>\n",
       "    <tr>\n",
       "      <th>0</th>\n",
       "      <td>Education</td>\n",
       "      <td>7</td>\n",
       "      <td>26055</td>\n",
       "      <td>3.524236e+07</td>\n",
       "    </tr>\n",
       "    <tr>\n",
       "      <th>1</th>\n",
       "      <td>Food &amp; Beverage</td>\n",
       "      <td>17</td>\n",
       "      <td>148252</td>\n",
       "      <td>1.160524e+08</td>\n",
       "    </tr>\n",
       "    <tr>\n",
       "      <th>2</th>\n",
       "      <td>hotels, restaurants &amp; leisure</td>\n",
       "      <td>0</td>\n",
       "      <td>0</td>\n",
       "      <td>NaN</td>\n",
       "    </tr>\n",
       "  </tbody>\n",
       "</table>\n",
       "</div>"
      ],
      "text/plain": [
       "                        industry  platforms  transactions        amount\n",
       "0                      Education          7         26055  3.524236e+07\n",
       "1                Food & Beverage         17        148252  1.160524e+08\n",
       "2  hotels, restaurants & leisure          0             0           NaN"
      ]
     },
     "execution_count": 198,
     "metadata": {},
     "output_type": "execute_result"
    }
   ],
   "source": [
    "platform = pd.read_sql(sql=sql\n",
    "                    , con=main.conn\n",
    "                    \n",
    "                       )\n",
    "platform"
   ]
  },
  {
   "cell_type": "code",
   "execution_count": 199,
   "metadata": {},
   "outputs": [],
   "source": [
    "sql = '''\n",
    "WITH base\n",
    "AS (\n",
    "    SELECT i.industry\n",
    "        ,p.DATE::DATE\n",
    "        ,(p.amount * p.count) / 100 AS total_amount\n",
    "        ,p.platform_id\n",
    "    FROM mint.payouts p\n",
    "    JOIN mint.industries i ON p.recipient_id = i.merchant_id\n",
    "    WHERE i.industry IN (\n",
    "            'hotels, restaurants & leisure'\n",
    "            ,'Food & Beverage'\n",
    "            ,'Education'\n",
    "            )\n",
    "    )\n",
    "SELECT DATE\n",
    "    ,industry\n",
    "    ,sum(total_amount)::DECIMAL(18, 2) AS total_amount\n",
    "FROM base\n",
    "GROUP BY DATE\n",
    "    ,industry\n",
    "'''"
   ]
  },
  {
   "cell_type": "code",
   "execution_count": 200,
   "metadata": {},
   "outputs": [],
   "source": [
    "dfp=pd.read_sql(sql=sql\n",
    "                , con=main.conn\n",
    "                    \n",
    "                       )"
   ]
  },
  {
   "cell_type": "code",
   "execution_count": 201,
   "metadata": {},
   "outputs": [
    {
     "data": {
      "text/plain": [
       "count       359.000000\n",
       "mean     117232.567326\n",
       "std      128985.496644\n",
       "min        -813.770000\n",
       "25%        1120.950000\n",
       "50%       90438.250000\n",
       "75%      167176.300000\n",
       "max      803630.720000\n",
       "Name: total_amount, dtype: object"
      ]
     },
     "execution_count": 201,
     "metadata": {},
     "output_type": "execute_result"
    }
   ],
   "source": [
    "dfp[dfp['industry']=='Education'].total_amount.describe().apply(lambda x: format(x, 'f'))"
   ]
  },
  {
   "cell_type": "code",
   "execution_count": 202,
   "metadata": {},
   "outputs": [
    {
     "data": {
      "text/plain": [
       "count        365.000000\n",
       "mean      324025.805288\n",
       "std       536737.685293\n",
       "min      -163817.160000\n",
       "25%        20041.220000\n",
       "50%       137019.370000\n",
       "75%       363001.410000\n",
       "max      4025678.310000\n",
       "Name: total_amount, dtype: object"
      ]
     },
     "execution_count": 202,
     "metadata": {},
     "output_type": "execute_result"
    }
   ],
   "source": [
    "dfp[dfp['industry']=='Food & Beverage'].total_amount.describe().apply(lambda x: format(x, 'f'))"
   ]
  },
  {
   "cell_type": "code",
   "execution_count": 203,
   "metadata": {},
   "outputs": [
    {
     "data": {
      "text/html": [
       "<div>\n",
       "<style scoped>\n",
       "    .dataframe tbody tr th:only-of-type {\n",
       "        vertical-align: middle;\n",
       "    }\n",
       "\n",
       "    .dataframe tbody tr th {\n",
       "        vertical-align: top;\n",
       "    }\n",
       "\n",
       "    .dataframe thead th {\n",
       "        text-align: right;\n",
       "    }\n",
       "</style>\n",
       "<table border=\"1\" class=\"dataframe\">\n",
       "  <thead>\n",
       "    <tr style=\"text-align: right;\">\n",
       "      <th></th>\n",
       "      <th>industry_</th>\n",
       "      <th>total_amount_mean</th>\n",
       "      <th>total_amount_std</th>\n",
       "      <th>Best_Guess</th>\n",
       "    </tr>\n",
       "  </thead>\n",
       "  <tbody>\n",
       "    <tr>\n",
       "      <th>0</th>\n",
       "      <td>Education</td>\n",
       "      <td>117232.567326</td>\n",
       "      <td>128985.496644</td>\n",
       "      <td>246218.063970</td>\n",
       "    </tr>\n",
       "    <tr>\n",
       "      <th>1</th>\n",
       "      <td>Food &amp; Beverage</td>\n",
       "      <td>324025.805288</td>\n",
       "      <td>536737.685293</td>\n",
       "      <td>860763.490581</td>\n",
       "    </tr>\n",
       "  </tbody>\n",
       "</table>\n",
       "</div>"
      ],
      "text/plain": [
       "         industry_  total_amount_mean  total_amount_std     Best_Guess\n",
       "0        Education      117232.567326     128985.496644  246218.063970\n",
       "1  Food & Beverage      324025.805288     536737.685293  860763.490581"
      ]
     },
     "execution_count": 203,
     "metadata": {},
     "output_type": "execute_result"
    }
   ],
   "source": [
    "grouped = dfp.groupby('industry', as_index=False).agg({\"total_amount\": ['mean','std']})\n",
    "grouped.columns= [\"_\".join(x) for x in grouped.columns.ravel()]\n",
    "grouped['Best_Guess']= grouped['total_amount_mean'] + grouped['total_amount_std']\n",
    "grouped"
   ]
  },
  {
   "cell_type": "code",
   "execution_count": 204,
   "metadata": {},
   "outputs": [],
   "source": [
    "grouped.to_csv('./data/Q2_answers.csv')"
   ]
  },
  {
   "cell_type": "code",
   "execution_count": null,
   "metadata": {},
   "outputs": [],
   "source": []
  }
 ],
 "metadata": {
  "kernelspec": {
   "display_name": "Python 3",
   "language": "python",
   "name": "python3"
  },
  "language_info": {
   "codemirror_mode": {
    "name": "ipython",
    "version": 3
   },
   "file_extension": ".py",
   "mimetype": "text/x-python",
   "name": "python",
   "nbconvert_exporter": "python",
   "pygments_lexer": "ipython3",
   "version": "3.7.6"
  }
 },
 "nbformat": 4,
 "nbformat_minor": 4
}
