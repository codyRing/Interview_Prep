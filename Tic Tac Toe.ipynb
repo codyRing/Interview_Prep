{
 "cells": [
  {
   "cell_type": "code",
   "execution_count": 1,
   "id": "5de047c0",
   "metadata": {},
   "outputs": [],
   "source": [
    "import pandas as pd\n",
    "import numpy as np"
   ]
  },
  {
   "cell_type": "code",
   "execution_count": 3,
   "id": "ccdfb16c",
   "metadata": {},
   "outputs": [],
   "source": [
    "def play(player,r,c,board):\n",
    "        \n",
    "        \n",
    "    if player == 'X':\n",
    "        if board[r][c] == None :     \n",
    "            board[r][c] = 'X'\n",
    "            print(board)\n",
    "            player= 'O'\n",
    "            return(board,player)\n",
    "\n",
    "        else:\n",
    "            print('square already taken')\n",
    "\n",
    "    if player == 'O':\n",
    "        if board[r][c] == None :            \n",
    "            board[r][c] = 'O'\n",
    "            print(board)\n",
    "            player= 'X'\n",
    "            return(board,player)\n",
    "\n",
    "        else:\n",
    "            print('square already taken',board)\n",
    "                \n",
    "    game_over,winner = eval_board(board)\n",
    "    \n",
    "    if game_over == True:\n",
    "        print(('the winner is {}').format(winner))\n",
    "        return None\n",
    "        \n",
    "    return board,player"
   ]
  },
  {
   "cell_type": "code",
   "execution_count": 4,
   "id": "ee84a3f5",
   "metadata": {},
   "outputs": [],
   "source": [
    "def eval_board(board):\n",
    "    game_over=False\n",
    "    winner = 'Game still in play'\n",
    "\n",
    "    for row in board:\n",
    "        if set(row) == {'X'}:\n",
    "            game_over=True\n",
    "            winner = 'X'\n",
    "\n",
    "        if set(row) == {'O'}:\n",
    "            game_over=True\n",
    "            winner = 'O'\n",
    "\n",
    "\n",
    "\n",
    "    for column in board.transpose():\n",
    "\n",
    "        if set(column) == {'X'}:\n",
    "            game_over=True\n",
    "            winner = 'X'\n",
    "\n",
    "        if set(column) == {'O'}:\n",
    "            game_over=True\n",
    "            winner = 'O'\n",
    "\n",
    "\n",
    "\n",
    "    left_diag = {board[0][0],board[1][1],board[2][2]}\n",
    "    right_diag = {board[0][2],board[1][1],board[2][0]}\n",
    "\n",
    "    if left_diag == {'X'}:\n",
    "        game_over=True\n",
    "        winner = 'X'\n",
    "\n",
    "\n",
    "    if right_diag == {'X'}:\n",
    "        game_over=True\n",
    "        winner = 'X'\n",
    "\n",
    "\n",
    "    if left_diag == {'O'}:\n",
    "        game_over=True\n",
    "        winner = 'O'\n",
    "\n",
    "    if right_diag == {'O'}:\n",
    "        game_over=True\n",
    "        winner = 'O'\n",
    "    return game_over,winner"
   ]
  },
  {
   "cell_type": "code",
   "execution_count": 6,
   "id": "8b7f100f",
   "metadata": {},
   "outputs": [
    {
     "name": "stdout",
     "output_type": "stream",
     "text": [
      "1\n",
      "1\n",
      "[[None None None]\n",
      " [None 'X' None]\n",
      " [None None None]]\n",
      "0\n",
      "1\n",
      "[[None 'O' None]\n",
      " [None 'X' None]\n",
      " [None None None]]\n",
      "0\n",
      "0\n",
      "[['X' 'O' None]\n",
      " [None 'X' None]\n",
      " [None None None]]\n",
      "0\n",
      "2\n",
      "[['X' 'O' 'O']\n",
      " [None 'X' None]\n",
      " [None None None]]\n",
      "2\n",
      "2\n",
      "[['X' 'O' 'O']\n",
      " [None 'X' None]\n",
      " [None None 'X']]\n"
     ]
    }
   ],
   "source": [
    "board = np.full([3, 3], None)\n",
    "player= 'X'\n",
    "\n",
    "\n",
    "while eval_board(board)[0] == False:\n",
    "    board,player = play(player,int(input()),int(input()),board)"
   ]
  },
  {
   "cell_type": "code",
   "execution_count": null,
   "id": "e61eb4f7",
   "metadata": {},
   "outputs": [],
   "source": []
  }
 ],
 "metadata": {
  "kernelspec": {
   "display_name": "Python 3",
   "language": "python",
   "name": "python3"
  },
  "language_info": {
   "codemirror_mode": {
    "name": "ipython",
    "version": 3
   },
   "file_extension": ".py",
   "mimetype": "text/x-python",
   "name": "python",
   "nbconvert_exporter": "python",
   "pygments_lexer": "ipython3",
   "version": "3.8.5"
  }
 },
 "nbformat": 4,
 "nbformat_minor": 5
}
