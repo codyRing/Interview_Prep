{
 "cells": [
  {
   "cell_type": "code",
   "execution_count": 1,
   "id": "50e29c30",
   "metadata": {},
   "outputs": [],
   "source": [
    "import pandas as pd\n",
    "import numpy as np\n",
    "import matplotlib.pyplot as plt\n",
    "import seaborn as sns\n",
    "import random\n",
    "import collections\n",
    "import sys\n",
    "import re\n",
    "import string\n",
    "import math\n",
    "import os\n",
    "\n",
    "from datetime import datetime,timedelta\n",
    "\n",
    "from functools import reduce\n",
    "plt.style.use('ggplot')\n",
    "%matplotlib inline\n"
   ]
  },
  {
   "cell_type": "code",
   "execution_count": 2,
   "id": "2c54f604",
   "metadata": {},
   "outputs": [],
   "source": [
    "# Write a function taht returns the elements on odd positions (0 based) in a list"
   ]
  },
  {
   "cell_type": "code",
   "execution_count": 3,
   "id": "5d6b3243",
   "metadata": {},
   "outputs": [],
   "source": [
    "def odd_elements(ls):\n",
    "    return [ls[i] for i in range(len(ls) ) if i%2 !=0]"
   ]
  },
  {
   "cell_type": "code",
   "execution_count": 4,
   "id": "9abce85d",
   "metadata": {},
   "outputs": [
    {
     "data": {
      "text/plain": [
       "[1, 3, 5]"
      ]
     },
     "execution_count": 4,
     "metadata": {},
     "output_type": "execute_result"
    }
   ],
   "source": [
    "# ls = [random.randrange(1, 100, 1) for i in range(30)] # randrange is integers \n",
    "ls = [0,1,2,3,4,5]\n",
    "odd_elements(ls)"
   ]
  },
  {
   "cell_type": "code",
   "execution_count": 5,
   "id": "d91e88fb",
   "metadata": {},
   "outputs": [],
   "source": [
    "#Write a function that returns the cumulative sum of elements in a list"
   ]
  },
  {
   "cell_type": "code",
   "execution_count": 6,
   "id": "6cf5a4f7",
   "metadata": {},
   "outputs": [],
   "source": [
    "def running_total(ls):\n",
    "    answer = []\n",
    "    for i in range(len(ls)):\n",
    "        if i == 0:\n",
    "            answer.append(ls[i])\n",
    "        else:\n",
    "            answer.append(answer[i-1]+ls[i])\n",
    "    return answer\n",
    "    "
   ]
  },
  {
   "cell_type": "code",
   "execution_count": 7,
   "id": "1832a5c9",
   "metadata": {},
   "outputs": [
    {
     "data": {
      "text/plain": [
       "[1, 0, 3]"
      ]
     },
     "execution_count": 7,
     "metadata": {},
     "output_type": "execute_result"
    }
   ],
   "source": [
    "# ls = [1,1,1,]\n",
    "ls = [1,-1,3]\n",
    "running_total(ls)"
   ]
  },
  {
   "cell_type": "code",
   "execution_count": 8,
   "id": "a348b1ac",
   "metadata": {},
   "outputs": [],
   "source": [
    "# write a function tat takes a number and returns a lsit of its digits\n",
    "# Decimal"
   ]
  },
  {
   "cell_type": "code",
   "execution_count": 9,
   "id": "9065cb38",
   "metadata": {},
   "outputs": [],
   "source": [
    "def str_to_list(s):\n",
    "    return [int(char) for char in str(s)]"
   ]
  },
  {
   "cell_type": "code",
   "execution_count": 10,
   "id": "29bf8f23",
   "metadata": {},
   "outputs": [
    {
     "data": {
      "text/plain": [
       "[3, 0, 0, 0]"
      ]
     },
     "execution_count": 10,
     "metadata": {},
     "output_type": "execute_result"
    }
   ],
   "source": [
    "s=3000\n",
    "str_to_list(s)"
   ]
  },
  {
   "cell_type": "code",
   "execution_count": 11,
   "id": "4ddc4153",
   "metadata": {},
   "outputs": [],
   "source": [
    "# Return the \"centered\" average of an array of ints, \n",
    "# which we'll say is the mean average of the values, except ignoring the largest and smallest values in the array. \n",
    "# If there are multiple copies of the smallest value, ignore just one copy, and likewise for the largest value. \n",
    "# Use int division to produce the final average. You may assume that the array is length 3 or more."
   ]
  },
  {
   "cell_type": "code",
   "execution_count": 12,
   "id": "346ccbf4",
   "metadata": {},
   "outputs": [],
   "source": [
    "# Decimals\n",
    "# Negative"
   ]
  },
  {
   "cell_type": "code",
   "execution_count": 28,
   "id": "c880adf2",
   "metadata": {},
   "outputs": [],
   "source": [
    "def centered_average(nums):\n",
    "    nums.sort()\n",
    "    del nums[0]\n",
    "    del nums[-1]\n",
    "    print(nums)\n",
    "#     return reduce(lambda a, b: a + b, nums) / len(nums)\n",
    "    return round((sum(nums)/len(nums)))"
   ]
  },
  {
   "cell_type": "code",
   "execution_count": 27,
   "id": "9d592b50",
   "metadata": {},
   "outputs": [
    {
     "data": {
      "text/plain": [
       "2.4"
      ]
     },
     "execution_count": 27,
     "metadata": {},
     "output_type": "execute_result"
    }
   ],
   "source": [
    "# ls= [1, 2, 3, 4, 100]\n",
    "# nums = [1,1,5.4,5.6,100.5,8,7]\n",
    "nums = [-1,-10,-5,-4,-6,1,6,8,9,7,-5,-5,-5,-5,5,-5,5,5,5,-5,-5,5,5,5,5,5,5,5,5,5,5,5,5,5,5,5,5,5,5,5,5,5,]\n",
    "nums.sort()\n",
    "\n",
    "sum(nums[1:-1])/len(nums[1:-1])\n",
    "# centered_average(nums)"
   ]
  },
  {
   "cell_type": "code",
   "execution_count": 29,
   "id": "32eeea95",
   "metadata": {},
   "outputs": [
    {
     "name": "stdout",
     "output_type": "stream",
     "text": [
      "[-6, -5, -5, -5, -5, -5, -5, -5, -5, -4, -1, 1, 5, 5, 5, 5, 5, 5, 5, 5, 5, 5, 5, 5, 5, 5, 5, 5, 5, 5, 5, 5, 5, 5, 5, 5, 5, 6, 7, 8]\n"
     ]
    },
    {
     "data": {
      "text/plain": [
       "2"
      ]
     },
     "execution_count": 29,
     "metadata": {},
     "output_type": "execute_result"
    }
   ],
   "source": [
    "centered_average(nums)"
   ]
  },
  {
   "cell_type": "code",
   "execution_count": 30,
   "id": "44947af8",
   "metadata": {},
   "outputs": [],
   "source": [
    "# A easy problem given to me was replace the Null with previous value in list. The test case will have string instead of list. \n",
    "# the first value of list will be null, there will be empty list. \n",
    "# So your code has to handle all of these test cases.\n"
   ]
  },
  {
   "cell_type": "code",
   "execution_count": 31,
   "id": "b0c276a3",
   "metadata": {},
   "outputs": [],
   "source": [
    "x= [1,2,2,3,4,None,5,4,3]\n",
    "# x='12345None6'\n",
    "\n",
    "\n",
    "\n",
    "\n",
    "for i in range(len(x)):\n",
    "    if x[i] is None:\n",
    "        x[i] = x[i-1]"
   ]
  },
  {
   "cell_type": "code",
   "execution_count": 32,
   "id": "717e9ef2",
   "metadata": {},
   "outputs": [
    {
     "data": {
      "text/plain": [
       "[1, 2, 2, 3, 4, 4, 5, 4, 3]"
      ]
     },
     "execution_count": 32,
     "metadata": {},
     "output_type": "execute_result"
    }
   ],
   "source": [
    "x"
   ]
  },
  {
   "cell_type": "code",
   "execution_count": null,
   "id": "e0cfbcae",
   "metadata": {},
   "outputs": [],
   "source": [
    "# 2. Given a ´dictionary, print the key for nth highest value present in the dict. \n",
    "# If there are more than 1 record present for nth highest value then sort the key and print the first one."
   ]
  },
  {
   "cell_type": "code",
   "execution_count": null,
   "id": "df596c2c",
   "metadata": {},
   "outputs": [],
   "source": [
    "# Time complexity. How long would your algorithim grow in time with more elemetns\n",
    "# Big O notation\n",
    "# N \n",
    "# N**2\n",
    "# N Log(n)\n",
    "# N xp(n)\n",
    "\n",
    "# Constant time best. Same for every run\n",
    "# Liner 26 takes 10 seconds 260 takes 100 seconds\n",
    "# n log n complexity\n",
    "\n",
    "\n",
    "#https://www.google.com/imgres?imgurl=https://miro.medium.com/max/628/1*bNJu2vdL40kXkBgi9Tl0ew.png&imgrefurl=https://towardsdatascience.com/essential-programming-time-complexity-a95bb2608cac&tbnid=L-nFT0oLK-CKTM&vet=1&docid=XQNvaUq89saPEM&w=314&h=300&source=sh/x/im#imgrc=L-nFT0oLK-CKTM&imgdii=kkx9aWGLCiSFiM\n"
   ]
  },
  {
   "cell_type": "code",
   "execution_count": 33,
   "id": "e8cdf0db",
   "metadata": {},
   "outputs": [],
   "source": [
    "alpha = list(string.ascii_lowercase)\n",
    "x = [random.randrange(1, 5, 1) for i in range(len(alpha))] # randrange is integers \n",
    "\n",
    "my_dict = dict(zip(alpha,x))\n"
   ]
  },
  {
   "cell_type": "code",
   "execution_count": 34,
   "id": "c19e881d",
   "metadata": {},
   "outputs": [],
   "source": [
    "# my_dict"
   ]
  },
  {
   "cell_type": "code",
   "execution_count": 35,
   "id": "0e4958ed",
   "metadata": {},
   "outputs": [],
   "source": [
    "def n_dict(my_dict,n):\n",
    "    result=[]\n",
    "    values = set(sorted(my_dict.values()))\n",
    "    values = list(values)\n",
    "    n_value = values[-n]\n",
    "    print(('{} Highest my_dict value: {}').format(n,n_value))\n",
    "    for k,v in my_dict.items():\n",
    "        if v == n_value:\n",
    "            result.append(k)\n",
    "    sorted(result)\n",
    "    return result"
   ]
  },
  {
   "cell_type": "code",
   "execution_count": 36,
   "id": "694beee4",
   "metadata": {},
   "outputs": [
    {
     "name": "stdout",
     "output_type": "stream",
     "text": [
      "3 Highest my_dict value: 2\n"
     ]
    },
    {
     "data": {
      "text/plain": [
       "['k', 'p', 'q', 'z']"
      ]
     },
     "execution_count": 36,
     "metadata": {},
     "output_type": "execute_result"
    }
   ],
   "source": [
    "n_dict(my_dict,3)"
   ]
  },
  {
   "cell_type": "code",
   "execution_count": null,
   "id": "4bd087d9",
   "metadata": {},
   "outputs": [],
   "source": [
    "#3. Given two sentences, you have to print the words those are not present in either of the sentences.\n",
    "# (If one word is present twice in 1st sentence but not present in 2nd sentence then you have to print that word too)\n",
    "\n",
    "# Except"
   ]
  },
  {
   "cell_type": "code",
   "execution_count": 37,
   "id": "f91d9b35",
   "metadata": {},
   "outputs": [],
   "source": [
    "\n",
    "\n",
    "one = 'call me baby one more time.'\n",
    "two = 'call me baby two more times'\n",
    "# one = one.split(' ')\n",
    "# two = two.split(' ')"
   ]
  },
  {
   "cell_type": "code",
   "execution_count": 38,
   "id": "a95b1b2a",
   "metadata": {},
   "outputs": [
    {
     "data": {
      "text/plain": [
       "['call', 'me', 'baby', 'more']"
      ]
     },
     "execution_count": 38,
     "metadata": {},
     "output_type": "execute_result"
    }
   ],
   "source": [
    "def sentence_intersect(one,two):\n",
    "    one = one.split(' ')\n",
    "    two = two.split(' ')\n",
    "    \n",
    "    for i in range(len(one)):\n",
    "        one[i] = re.sub(r'[^A-Za-z]+', ' ', one[i])\n",
    "        \n",
    "    for i in range(len(two)):\n",
    "        two[i] = re.sub(r'[^A-Za-z]+', ' ', two[i])\n",
    "        \n",
    "    match = [value for value in one if value in two]\n",
    "    return match\n",
    "\n",
    "sentence_intersect(one,two)"
   ]
  },
  {
   "cell_type": "code",
   "execution_count": 39,
   "id": "cf8a83cb",
   "metadata": {},
   "outputs": [],
   "source": [
    "def sentence_avg_length(one):\n",
    "    result = []\n",
    "    one = one.split(' ')\n",
    "    \n",
    "    for i in range(len(one)):\n",
    "#         one[i] = re.sub(r'[^A-Za-z]+', '', one[i])\n",
    "        result.append(len(re.sub(r'[^A-Za-z]+', '', one[i])))\n",
    "    \n",
    "    print(result)\n",
    "    \n",
    "    return (sum(result)/len(result))\n"
   ]
  },
  {
   "cell_type": "code",
   "execution_count": 40,
   "id": "7cde33c7",
   "metadata": {},
   "outputs": [
    {
     "name": "stdout",
     "output_type": "stream",
     "text": [
      "[4, 2, 4, 3, 4, 5]\n"
     ]
    },
    {
     "data": {
      "text/plain": [
       "3.6666666666666665"
      ]
     },
     "execution_count": 40,
     "metadata": {},
     "output_type": "execute_result"
    }
   ],
   "source": [
    "sentence_avg_length(two)"
   ]
  },
  {
   "cell_type": "code",
   "execution_count": 41,
   "id": "378da9fc",
   "metadata": {},
   "outputs": [],
   "source": [
    "# Python coding: count the same letters in a single word\n",
    "\n",
    "s='mississippi'\n",
    "\n"
   ]
  },
  {
   "cell_type": "code",
   "execution_count": 42,
   "id": "eb77ea98",
   "metadata": {},
   "outputs": [
    {
     "data": {
      "text/plain": [
       "{'M': 1, 'I': 4, 'S': 4, 'P': 2}"
      ]
     },
     "execution_count": 42,
     "metadata": {},
     "output_type": "execute_result"
    }
   ],
   "source": [
    "def letter_distribution(s):\n",
    "    s=s.upper()\n",
    "    freq={}\n",
    "    for char in s:\n",
    "        if char in freq:\n",
    "            freq[char]+=1\n",
    "        else:\n",
    "            freq[char]=1\n",
    "    return freq\n",
    "\n",
    "letter_distribution(s)"
   ]
  },
  {
   "cell_type": "code",
   "execution_count": 43,
   "id": "6e95e193",
   "metadata": {},
   "outputs": [],
   "source": [
    "#Given an array of integers, we would like to determine whether the array is monotonic (non-decreasing/non-increasing)or not.\n",
    "\n"
   ]
  },
  {
   "cell_type": "code",
   "execution_count": 44,
   "id": "37b2870c",
   "metadata": {},
   "outputs": [],
   "source": [
    "A = [6, 7, 8, 9]"
   ]
  },
  {
   "cell_type": "code",
   "execution_count": 45,
   "id": "1c350f63",
   "metadata": {},
   "outputs": [],
   "source": [
    "\n",
    "def isMonotonic(A):\n",
    "  \n",
    "    return (all(A[i] <= A[i + 1] for i in range(len(A) - 1)) or\n",
    "            all(A[i] >= A[i + 1] for i in range(len(A) - 1)))"
   ]
  },
  {
   "cell_type": "code",
   "execution_count": 46,
   "id": "991c13ed",
   "metadata": {},
   "outputs": [
    {
     "data": {
      "text/plain": [
       "True"
      ]
     },
     "execution_count": 46,
     "metadata": {},
     "output_type": "execute_result"
    }
   ],
   "source": [
    "\n",
    "isMonotonic(A)"
   ]
  },
  {
   "cell_type": "code",
   "execution_count": 47,
   "id": "a27e2dbe",
   "metadata": {},
   "outputs": [],
   "source": [
    "# How to determine if a year is a leap year?\n",
    "\n",
    "# You should follow the following steps to determine whether a year is a leap year or not.\n",
    "\n",
    "# If a year is evenly divisible by 4 means having no remainder then go to next step. \n",
    "# If it is not divisible by 4. It is not a leap year. For example: 1997 is not a leap year.\n",
    "\n",
    "# If a year is divisible by 4, but not by 100. \n",
    "# For example: 2012, it is a leap year. If a year is divisible by both 4 and 100, go to next step.\n",
    "\n",
    "# If a year is divisible by 100, but not by 400. \n",
    "# For example: 1900, then it is not a leap year. \n",
    "# If a year is divisible by both, then it is a leap year. \n",
    "# So 2000 is a leap year."
   ]
  },
  {
   "cell_type": "code",
   "execution_count": 48,
   "id": "3119a5a3",
   "metadata": {},
   "outputs": [],
   "source": [
    "def is_leap(year):\n",
    "    leap = False\n",
    "    \n",
    "    if year % 4 == 0:\n",
    "        if year % 100 ==0:\n",
    "            if year % 400 ==0:\n",
    "                leap=True\n",
    "            else:\n",
    "                leap= False\n",
    "        else:\n",
    "            leap=True\n",
    "    else:\n",
    "        leap=False\n",
    "        \n",
    "    \n",
    "\n",
    "    \n",
    "    return leap\n"
   ]
  },
  {
   "cell_type": "code",
   "execution_count": 53,
   "id": "a3fb89aa",
   "metadata": {},
   "outputs": [
    {
     "data": {
      "text/plain": [
       "True"
      ]
     },
     "execution_count": 53,
     "metadata": {},
     "output_type": "execute_result"
    }
   ],
   "source": [
    "is_leap(2024)"
   ]
  },
  {
   "cell_type": "code",
   "execution_count": 668,
   "id": "7d22c3aa",
   "metadata": {},
   "outputs": [],
   "source": [
    "#https://www.codewars.com/kata/5f70c883e10f9e0001c89673/train/python"
   ]
  },
  {
   "cell_type": "code",
   "execution_count": 669,
   "id": "05609d02",
   "metadata": {},
   "outputs": [],
   "source": [
    "x = [3, 2, 1, 2]\n",
    "y = [1, 4, 5, 3, 5]"
   ]
  },
  {
   "cell_type": "code",
   "execution_count": 670,
   "id": "eafe647a",
   "metadata": {},
   "outputs": [],
   "source": [
    "def flip (d,a):\n",
    "    if d =='L':\n",
    "        a.sort(reverse=True) \n",
    "    elif d== 'R':\n",
    "        a.sort(reverse=False) \n",
    "    return a"
   ]
  },
  {
   "cell_type": "code",
   "execution_count": 671,
   "id": "fe48b6c6",
   "metadata": {},
   "outputs": [],
   "source": [
    "x = flip('R',x)\n",
    "y = flip('L',y)"
   ]
  },
  {
   "cell_type": "code",
   "execution_count": 672,
   "id": "c88c2209",
   "metadata": {},
   "outputs": [
    {
     "name": "stdout",
     "output_type": "stream",
     "text": [
      "[1, 2, 2, 3] [5, 5, 4, 3, 1]\n"
     ]
    }
   ],
   "source": [
    "print(x,y)"
   ]
  },
  {
   "cell_type": "code",
   "execution_count": 673,
   "id": "fe273184",
   "metadata": {},
   "outputs": [],
   "source": [
    "# https://www.codewars.com/kata/550f22f4d758534c1100025a/train/python"
   ]
  },
  {
   "cell_type": "code",
   "execution_count": 674,
   "id": "a251ea05",
   "metadata": {},
   "outputs": [],
   "source": [
    "# THiss passes 12  and fails 13\n",
    "def dirReduc_working(arr):\n",
    "    print(arr)\n",
    "    opp = {\n",
    "    'NORTH':'SOUTH',\n",
    "    'SOUTH':'NORTH',\n",
    "    'EAST':'WEST',\n",
    "    'WEST':'EAST'\n",
    "    }\n",
    "    to_pop=set()\n",
    "    done= False\n",
    "    while done == False:\n",
    "        for i in range(0,len(arr)-1):\n",
    "#             print(i)\n",
    "            if arr[i+1] == opp[arr[i]]:\n",
    "                to_pop.add(i)\n",
    "                to_pop.add(i+1)\n",
    "\n",
    "        if len(to_pop) ==0:\n",
    "            done = True\n",
    "        elif len(to_pop) !=0:\n",
    "            arr = [i for j, i in enumerate(arr) if j not in to_pop]\n",
    "            done = False\n",
    "            to_pop=set()\n",
    "#     print(arr)\n",
    "    return arr\n"
   ]
  },
  {
   "cell_type": "code",
   "execution_count": 676,
   "id": "f3d8d8cc",
   "metadata": {},
   "outputs": [],
   "source": [
    "  \n",
    "def dirReduc_test(arr):\n",
    "    dict = {\"NORTH\":\"SOUTH\",\"SOUTH\":\"NORTH\",\"EAST\":\"WEST\",\"WEST\":\"EAST\"}\n",
    "    res = []\n",
    "    for i in arr:\n",
    "        if res and dict[i] == res[-1]:\n",
    "            res.pop()\n",
    "        else:\n",
    "            res.append(i)\n",
    "    return res"
   ]
  },
  {
   "cell_type": "code",
   "execution_count": 677,
   "id": "cce42e93",
   "metadata": {},
   "outputs": [],
   "source": [
    "a = [\"NORTH\", \"SOUTH\", \"SOUTH\", \"EAST\", \"WEST\", \"NORTH\", \"WEST\"]"
   ]
  },
  {
   "cell_type": "code",
   "execution_count": 678,
   "id": "1dbc95f4",
   "metadata": {},
   "outputs": [
    {
     "data": {
      "text/plain": [
       "['WEST']"
      ]
     },
     "execution_count": 678,
     "metadata": {},
     "output_type": "execute_result"
    }
   ],
   "source": [
    "dirReduc_test(a)"
   ]
  },
  {
   "cell_type": "code",
   "execution_count": null,
   "id": "96096382",
   "metadata": {},
   "outputs": [],
   "source": [
    "# https://www.jeffastor.com/blog/using-python-to-calculate-dice-statistics"
   ]
  },
  {
   "cell_type": "code",
   "execution_count": 696,
   "id": "5bf18780",
   "metadata": {},
   "outputs": [],
   "source": [
    "def single_dice_roll(dice_sides,win,n):\n",
    "    dice = list(range(1,dice_sides+1))\n",
    "    \n",
    "    favorable = 0\n",
    "    unfavorable = 0\n",
    "\n",
    "    for i in range(1,n+1):\n",
    "        roll = np.random.choice(dice)\n",
    "        if roll == win:\n",
    "            favorable+=1\n",
    "        if roll != win:\n",
    "            unfavorable+=1\n",
    "            \n",
    "    probability = favorable / n\n",
    "    odds = favorable/unfavorable\n",
    "            \n",
    "    return print(('Probabiliy: {}\\nOdds: {}\\nAttempts: {}').format(probability,odds,n))\n",
    "\n",
    " "
   ]
  },
  {
   "cell_type": "code",
   "execution_count": 1273,
   "id": "4b31b3b1",
   "metadata": {},
   "outputs": [
    {
     "name": "stdout",
     "output_type": "stream",
     "text": [
      "Probabiliy: 0.16798\n",
      "Odds: 0.20189418523593183\n",
      "Attempts: 100000\n"
     ]
    }
   ],
   "source": [
    "single_dice_roll(6,5,100000)"
   ]
  },
  {
   "cell_type": "code",
   "execution_count": 724,
   "id": "16bdc366",
   "metadata": {},
   "outputs": [],
   "source": [
    "def two_dice_total(dice_sides,win,n):\n",
    "    dice = list(range(1,dice_sides+1))\n",
    "    \n",
    "    favorable = 0\n",
    "    unfavorable = 0\n",
    "\n",
    "    for i in range(1,n+1):\n",
    "        roll_1 = np.random.choice(dice)\n",
    "        roll_2 = np.random.choice(dice)\n",
    "        \n",
    "        if roll_1 + roll_2  == win:\n",
    "            favorable+=1\n",
    "            \n",
    "        if roll_1 + roll_2 != win:\n",
    "            unfavorable+=1\n",
    "            \n",
    "    probability = favorable / n\n",
    "    odds = favorable/unfavorable\n",
    "            \n",
    "    return print(('Probabiliy: {}\\nOdds: {}\\nAttempts: {}').format(probability,odds,n))"
   ]
  },
  {
   "cell_type": "code",
   "execution_count": 742,
   "id": "b5ce012f",
   "metadata": {},
   "outputs": [
    {
     "name": "stdout",
     "output_type": "stream",
     "text": [
      "Probabiliy: 0.1692\n",
      "Odds: 0.2036591237361579\n",
      "Attempts: 10000\n"
     ]
    }
   ],
   "source": [
    "two_dice_total(6,7,10000)"
   ]
  },
  {
   "cell_type": "code",
   "execution_count": 737,
   "id": "f407547b",
   "metadata": {},
   "outputs": [],
   "source": [
    "#If you roll two dice 100000\n",
    "np.random.seed(1738)\n",
    "d1 = np.array([1, 2, 3, 4, 5, 6])\n",
    "d2 = np.array([1, 2, 3, 4, 5, 6])\n",
    "dice_1 = []\n",
    "dice_2 = []\n",
    "sums = []\n",
    "\n",
    "for _ in range(10000):\n",
    "    roll_1 = np.random.choice(d1)\n",
    "    roll_2 = np.random.choice(d2)\n",
    "    dice_1.append(roll_1)\n",
    "    dice_2.append(roll_2)\n",
    "    sums.append(roll_1 + roll_2)\n",
    "    \n",
    "# sums"
   ]
  },
  {
   "cell_type": "code",
   "execution_count": 738,
   "id": "5de31bda",
   "metadata": {},
   "outputs": [
    {
     "name": "stderr",
     "output_type": "stream",
     "text": [
      "C:\\Users\\cringrissler\\Anaconda3\\envs\\seagen_iO\\lib\\site-packages\\seaborn\\_decorators.py:36: FutureWarning: Pass the following variable as a keyword arg: x. From version 0.12, the only valid positional argument will be `data`, and passing other arguments without an explicit keyword will result in an error or misinterpretation.\n",
      "  warnings.warn(\n",
      "C:\\Users\\cringrissler\\Anaconda3\\envs\\seagen_iO\\lib\\site-packages\\seaborn\\_decorators.py:36: FutureWarning: Pass the following variable as a keyword arg: x. From version 0.12, the only valid positional argument will be `data`, and passing other arguments without an explicit keyword will result in an error or misinterpretation.\n",
      "  warnings.warn(\n"
     ]
    },
    {
     "data": {
      "text/plain": [
       "<AxesSubplot:ylabel='count'>"
      ]
     },
     "execution_count": 738,
     "metadata": {},
     "output_type": "execute_result"
    },
    {
     "data": {
      "image/png": "[encoded data removed]",
      "text/plain": [
       "<Figure size 864x288 with 2 Axes>"
      ]
     },
     "metadata": {
      "needs_background": "light"
     },
     "output_type": "display_data"
    }
   ],
   "source": [
    "# Counts of individual Rolls\n",
    "fig, (ax1, ax2) = plt.subplots(ncols=2, sharey=True, figsize=(12,4))\n",
    "sns.countplot(dice_1, ax=ax1)\n",
    "sns.countplot(dice_2, ax=ax2)"
   ]
  },
  {
   "cell_type": "code",
   "execution_count": 739,
   "id": "5c092691",
   "metadata": {},
   "outputs": [
    {
     "name": "stderr",
     "output_type": "stream",
     "text": [
      "C:\\Users\\cringrissler\\Anaconda3\\envs\\seagen_iO\\lib\\site-packages\\seaborn\\_decorators.py:36: FutureWarning: Pass the following variable as a keyword arg: x. From version 0.12, the only valid positional argument will be `data`, and passing other arguments without an explicit keyword will result in an error or misinterpretation.\n",
      "  warnings.warn(\n"
     ]
    },
    {
     "data": {
      "text/plain": [
       "<AxesSubplot:ylabel='count'>"
      ]
     },
     "execution_count": 739,
     "metadata": {},
     "output_type": "execute_result"
    },
    {
     "data": {
      "image/png": "[encoded data removed]",
      "text/plain": [
       "<Figure size 864x288 with 1 Axes>"
      ]
     },
     "metadata": {
      "needs_background": "light"
     },
     "output_type": "display_data"
    }
   ],
   "source": [
    "# Count of roll totals\n",
    "fig, (ax1) = plt.subplots(ncols=1, sharey=True, figsize=(12,4))\n",
    "sns.countplot(sums, ax=ax1)\n"
   ]
  },
  {
   "cell_type": "code",
   "execution_count": null,
   "id": "5e190b11",
   "metadata": {},
   "outputs": [],
   "source": [
    "# https://www.codewars.com/kata/589e2af835999cbe2f000229/train/python\n"
   ]
  },
  {
   "cell_type": "code",
   "execution_count": 1159,
   "id": "2fbb9927",
   "metadata": {},
   "outputs": [],
   "source": [
    "from fractions import Fraction\n",
    "def magicdice(n):\n",
    "    if n == 0:\n",
    "        return [1, 1]\n",
    "    prob = sum([Fraction(0.5)**i for i in range(1, n+1)])\n",
    "    fr = Fraction(1 - (prob)**3)\n",
    "    return [fr.numerator, fr.denominator]"
   ]
  },
  {
   "cell_type": "code",
   "execution_count": 1161,
   "id": "64fa0f4e",
   "metadata": {},
   "outputs": [
    {
     "data": {
      "text/plain": [
       "[3142657, 1073741824]"
      ]
     },
     "execution_count": 1161,
     "metadata": {},
     "output_type": "execute_result"
    }
   ],
   "source": [
    "magicdice(10)"
   ]
  },
  {
   "cell_type": "code",
   "execution_count": 1023,
   "id": "89394134",
   "metadata": {},
   "outputs": [],
   "source": [
    "# https://www.codewars.com/kata/5f70c55c40b1c90032847588"
   ]
  },
  {
   "cell_type": "code",
   "execution_count": 63,
   "id": "b2990e68",
   "metadata": {},
   "outputs": [
    {
     "data": {
      "text/plain": [
       "{1: 1, 3: 1, 4: 1, 5: 1, 6: 1}"
      ]
     },
     "execution_count": 63,
     "metadata": {},
     "output_type": "execute_result"
    }
   ],
   "source": [
    "dice = '34561'\n",
    "points= 0\n",
    "lst = [int(char) for char in dice]\n",
    "lst.sort()\n",
    "# print(lst)\n",
    "freq =collections.Counter(lst)\n",
    "freq = dict(freq)\n",
    "neg_freq = dict((v,k) for k,v in freq.items())\n",
    "freq\n"
   ]
  },
  {
   "cell_type": "code",
   "execution_count": 64,
   "id": "3e8786f2",
   "metadata": {},
   "outputs": [
    {
     "data": {
      "text/plain": [
       "{1: 6}"
      ]
     },
     "execution_count": 64,
     "metadata": {},
     "output_type": "execute_result"
    }
   ],
   "source": [
    "neg_freq\n",
    "\n"
   ]
  },
  {
   "cell_type": "code",
   "execution_count": 65,
   "id": "c303c136",
   "metadata": {},
   "outputs": [
    {
     "data": {
      "text/plain": [
       "[1, 3, 4, 5, 6]"
      ]
     },
     "execution_count": 65,
     "metadata": {},
     "output_type": "execute_result"
    }
   ],
   "source": [
    "lst"
   ]
  },
  {
   "cell_type": "code",
   "execution_count": 66,
   "id": "9309bc4a",
   "metadata": {},
   "outputs": [],
   "source": [
    "# dice = sorted([int(d) for d in dice])\n",
    "counts = [lst.count(i) for i in range(1, 7)]"
   ]
  },
  {
   "cell_type": "code",
   "execution_count": 67,
   "id": "93e9af4d",
   "metadata": {},
   "outputs": [
    {
     "data": {
      "text/plain": [
       "[1, 0, 1, 1, 1, 1]"
      ]
     },
     "execution_count": 67,
     "metadata": {},
     "output_type": "execute_result"
    }
   ],
   "source": [
    "counts"
   ]
  },
  {
   "cell_type": "code",
   "execution_count": 68,
   "id": "8b58eb7a",
   "metadata": {},
   "outputs": [
    {
     "data": {
      "text/plain": [
       "5"
      ]
     },
     "execution_count": 68,
     "metadata": {},
     "output_type": "execute_result"
    }
   ],
   "source": [
    "counts.count(1) "
   ]
  },
  {
   "cell_type": "code",
   "execution_count": 62,
   "id": "b3a6f060",
   "metadata": {},
   "outputs": [
    {
     "data": {
      "text/plain": [
       "False"
      ]
     },
     "execution_count": 62,
     "metadata": {},
     "output_type": "execute_result"
    }
   ],
   "source": [
    "is_straight = False\n",
    "\n",
    "is_straight = (max(lst) - min(lst) + 1) == len(lst) \n",
    "is_straight"
   ]
  },
  {
   "cell_type": "code",
   "execution_count": 71,
   "id": "d4caa8f6",
   "metadata": {},
   "outputs": [],
   "source": [
    "dice = '34561'"
   ]
  },
  {
   "cell_type": "code",
   "execution_count": 72,
   "id": "c0c5da59",
   "metadata": {},
   "outputs": [],
   "source": [
    "def points(dice):\n",
    "    points= 0\n",
    "    lst = [int(char) for char in dice]\n",
    "    lst.sort()\n",
    "#     print(lst)\n",
    "    freq =collections.Counter(lst)\n",
    "    freq = dict(freq)\n",
    "    neg_freq = dict((v,k) for k,v in freq.items())\n",
    "\n",
    "    for k,v in freq.items():\n",
    "        if v == 5:\n",
    "            points = 50\n",
    "        if v == 4:\n",
    "            points = 40\n",
    "            break\n",
    "        \n",
    "    if points== 0: \n",
    "        try:\n",
    "            if neg_freq[3] + neg_freq[2]>0:\n",
    "                points = 30           \n",
    "\n",
    "        except:\n",
    "            pass\n",
    "    \n",
    "    if points==0:\n",
    "        try:\n",
    "            if neg_freq[1]==5 and lst.index(0) not in [2,3,4]:\n",
    "                points = 20          \n",
    "\n",
    "        except:\n",
    "            pass\n",
    "        \n",
    "\n",
    "    \n",
    "    return points"
   ]
  },
  {
   "cell_type": "code",
   "execution_count": 73,
   "id": "138fc2a1",
   "metadata": {},
   "outputs": [
    {
     "data": {
      "text/plain": [
       "0"
      ]
     },
     "execution_count": 73,
     "metadata": {},
     "output_type": "execute_result"
    }
   ],
   "source": [
    "points(dice)"
   ]
  },
  {
   "cell_type": "code",
   "execution_count": null,
   "id": "e33f3af8",
   "metadata": {},
   "outputs": [],
   "source": [
    "# https://www.hackerrank.com/challenges/python-arithmetic-operators/problem"
   ]
  },
  {
   "cell_type": "code",
   "execution_count": 272,
   "id": "c6d33178",
   "metadata": {},
   "outputs": [
    {
     "name": "stdout",
     "output_type": "stream",
     "text": [
      "3\n",
      "2\n"
     ]
    }
   ],
   "source": [
    "if __name__ == '__main__':\n",
    "    a = int(input())\n",
    "    b = int(input())\n",
    "    \n",
    "    def main(a,b):\n",
    "        return print(('{}\\n{}\\n{}').format((a+b),(a-b),(a*b)))"
   ]
  },
  {
   "cell_type": "code",
   "execution_count": 779,
   "id": "5fea3a05",
   "metadata": {},
   "outputs": [],
   "source": [
    "# https://www.hackerrank.com/challenges/nested-list/problem\n",
    "# Given the names and grades for each student in a class of  students, store them in a nested list \n",
    "# and print the name(s) of any student(s) having the second lowest grade.\n",
    "\n",
    "# Sample Input\n",
    "\n",
    "# 5\n",
    "# Harry\n",
    "# 37.21\n",
    "# Berry\n",
    "# 37.21\n",
    "# Tina\n",
    "# 37.2\n",
    "# Akriti\n",
    "# 41\n",
    "# Harsh\n",
    "# 39\n"
   ]
  },
  {
   "cell_type": "code",
   "execution_count": 780,
   "id": "c4f1de07",
   "metadata": {},
   "outputs": [],
   "source": [
    "from collections import defaultdict"
   ]
  },
  {
   "cell_type": "code",
   "execution_count": 802,
   "id": "44c3f2eb",
   "metadata": {},
   "outputs": [
    {
     "name": "stdout",
     "output_type": "stream",
     "text": [
      "5\n",
      "cody\n",
      "1\n",
      "sarah\n",
      "2\n",
      "tom\n",
      "2\n",
      "carol\n",
      "3\n",
      "sven\n",
      "5\n",
      "[1.0, 2.0, 3.0, 5.0]\n",
      "sarah\n",
      "tom\n"
     ]
    }
   ],
   "source": [
    "if __name__ == '__main__':\n",
    "    students = []\n",
    "\n",
    "    for _ in range(int(input())):\n",
    "        name = input()\n",
    "        score = float(input())\n",
    "        students.append([name,score])\n",
    "        \n",
    "    my_dict = defaultdict(list)\n",
    "    \n",
    "    for i in students:\n",
    "        my_dict[i[1]].append(i[0])\n",
    "        \n",
    "    my_dict = dict(my_dict)\n",
    "    \n",
    "\n",
    "    \n",
    "    rank=sorted(list(my_dict.keys()))\n",
    "    \n",
    "    target_score =  rank[1]\n",
    "\n",
    "    \n",
    "    for i in sorted(my_dict[target_score]):\n",
    "        print(i)\n",
    "        "
   ]
  },
  {
   "cell_type": "code",
   "execution_count": 1178,
   "id": "5dc3ef95",
   "metadata": {},
   "outputs": [],
   "source": [
    "students=[['cody',10],['sarah',9],['tom',8],['carol',7],['steve',7],['liam',6]]"
   ]
  },
  {
   "cell_type": "code",
   "execution_count": 1179,
   "id": "700c095a",
   "metadata": {},
   "outputs": [],
   "source": [
    "def second_worst_grade(students):\n",
    "    \n",
    "    my_dict = defaultdict(list)\n",
    "\n",
    "    for i in students:\n",
    "        my_dict[i[1]].append(i[0])\n",
    "\n",
    "    my_dict = dict(my_dict)\n",
    "\n",
    "\n",
    "    rank=sorted(list(my_dict.keys()))\n",
    "\n",
    "    target_score =  rank[1]\n",
    "    \n",
    "    return [i for i in sorted(my_dict[target_score])]\n",
    "\n",
    "    \n",
    "    "
   ]
  },
  {
   "cell_type": "code",
   "execution_count": 1180,
   "id": "2a51489f",
   "metadata": {},
   "outputs": [
    {
     "data": {
      "text/plain": [
       "['carol', 'steve']"
      ]
     },
     "execution_count": 1180,
     "metadata": {},
     "output_type": "execute_result"
    }
   ],
   "source": [
    "second_worst_grade(students)"
   ]
  },
  {
   "cell_type": "code",
   "execution_count": 393,
   "id": "afb6a67f",
   "metadata": {},
   "outputs": [],
   "source": [
    "#https://www.hackerrank.com/challenges/find-second-maximum-number-in-a-list/problem\n",
    "\n",
    "# Given the participants' score sheet for your University Sports Day, you are required to find the runner-up score. \n",
    "# You are given  scores. Store them in a list and find the score of the runner-up.\n",
    "\n",
    "# Sample Input\n",
    "# 5\n",
    "# 2 3 6 6 5"
   ]
  },
  {
   "cell_type": "code",
   "execution_count": 804,
   "id": "e64538c3",
   "metadata": {},
   "outputs": [
    {
     "name": "stdout",
     "output_type": "stream",
     "text": [
      "5\n",
      "2 3 6 5 5 8 9 7 4 5\n",
      "8\n"
     ]
    }
   ],
   "source": [
    "if __name__ == '__main__':\n",
    "    n = int(input())\n",
    "    arr = list(map(int, input().split()))\n",
    "    arr.sort()\n",
    "    \n",
    "    my_dict = {}\n",
    "\n",
    "    for i in arr:\n",
    "        if i in my_dict:\n",
    "            my_dict[i] += 1\n",
    "        else:\n",
    "            my_dict[i] = 1\n",
    "            \n",
    "    rank=sorted(list(my_dict.keys()))\n",
    "\n",
    "    target_score =  rank[-2]\n",
    "    \n",
    "    print(target_score)"
   ]
  },
  {
   "cell_type": "code",
   "execution_count": 1245,
   "id": "1d71bdbe",
   "metadata": {},
   "outputs": [
    {
     "data": {
      "text/plain": [
       "[23, 30, 16, 41, 17, 22, 84, 64, 86, 7, 33, 1, 57, 3, 19, 34, 18, 53, 9, 86]"
      ]
     },
     "execution_count": 1245,
     "metadata": {},
     "output_type": "execute_result"
    }
   ],
   "source": [
    "scores = [random.randrange(1, 100, 1) for i in range(20)] # randrange is integers\n",
    "scores"
   ]
  },
  {
   "cell_type": "code",
   "execution_count": 1246,
   "id": "2f5980fc",
   "metadata": {},
   "outputs": [],
   "source": [
    "def n_highest_score(scores,n):\n",
    "    scores.sort()\n",
    "    return scores[-n]\n",
    "    "
   ]
  },
  {
   "cell_type": "code",
   "execution_count": 1247,
   "id": "62457e4e",
   "metadata": {},
   "outputs": [
    {
     "name": "stdout",
     "output_type": "stream",
     "text": [
      "57 [1, 3, 7, 9, 16, 17, 18, 19, 22, 23, 30, 33, 34, 41, 53, 57, 64, 84, 86, 86]\n"
     ]
    }
   ],
   "source": [
    "val = n_highest_score(scores,5)\n",
    "print(val,scores)"
   ]
  },
  {
   "cell_type": "code",
   "execution_count": 805,
   "id": "3a522e3b",
   "metadata": {},
   "outputs": [],
   "source": [
    "# https://www.hackerrank.com/challenges/python-time-delta/problem\n",
    "# absolute time delta in seconds between two timezone aware strings"
   ]
  },
  {
   "cell_type": "code",
   "execution_count": 806,
   "id": "43c569be",
   "metadata": {},
   "outputs": [],
   "source": [
    "from datetime import datetime,timedelta"
   ]
  },
  {
   "cell_type": "code",
   "execution_count": 810,
   "id": "6bd7e91d",
   "metadata": {},
   "outputs": [],
   "source": [
    "# t1 = 'Sun 10 May 2015 13:54:36 -0700'\n",
    "# t2 = 'Sun 10 May 2015 13:54:36 -0000'\n",
    "\n",
    "t1 = 'Tue 18 May 2021 15:00:00 -0700'\n",
    "t2 = 'Tue 18 May 2021 22:00:01 -0000'"
   ]
  },
  {
   "cell_type": "code",
   "execution_count": 811,
   "id": "5af4dd90",
   "metadata": {},
   "outputs": [],
   "source": [
    "def time_delta(t1, t2):\n",
    "    t1 = datetime.strptime(t1, '%a %d %b %Y %H:%M:%S %z')\n",
    "    t2 = datetime.strptime(t2, '%a %d %b %Y %H:%M:%S %z')\n",
    "    return abs(round((t1-t2).total_seconds()))\n"
   ]
  },
  {
   "cell_type": "code",
   "execution_count": 812,
   "id": "3a81c6f3",
   "metadata": {},
   "outputs": [
    {
     "data": {
      "text/plain": [
       "1"
      ]
     },
     "execution_count": 812,
     "metadata": {},
     "output_type": "execute_result"
    }
   ],
   "source": [
    "time_delta(t1,t2)"
   ]
  },
  {
   "cell_type": "code",
   "execution_count": null,
   "id": "97e05c77",
   "metadata": {},
   "outputs": [],
   "source": [
    "#!/bin/python3\n",
    "\n",
    "\n",
    "\n",
    "# Complete the time_delta function below.\n",
    "def time_delta(t1, t2):\n",
    "    t1 = datetime.strptime(t1, '%a %d %b %Y %H:%M:%S %z')\n",
    "    t2 = datetime.strptime(t2, '%a %d %b %Y %H:%M:%S %z')\n",
    "    return abs(round((t1-t2).total_seconds()))\n",
    "\n",
    "\n",
    "if __name__ == '__main__':\n",
    "    fptr = open(os.environ['OUTPUT_PATH'], 'w')\n",
    "\n",
    "    t = int(input())\n",
    "\n",
    "    for t_itr in range(t):\n",
    "        t1 = input()\n",
    "\n",
    "        t2 = input()\n",
    "\n",
    "        delta = time_delta(t1, t2)\n",
    "\n",
    "        fptr.write(str(delta) + '\\n')\n",
    "\n",
    "    fptr.close()"
   ]
  },
  {
   "cell_type": "code",
   "execution_count": 599,
   "id": "270f5941",
   "metadata": {},
   "outputs": [],
   "source": [
    "# https://www.hackerrank.com/challenges/itertools-permutations/problem\n",
    "# You are given a string .\n",
    "# Your task is to print all possible permutations of size N of the string in lexicographic sorted order.\n",
    "\n",
    "# Sample Input\n",
    "# HACK 2"
   ]
  },
  {
   "cell_type": "code",
   "execution_count": 648,
   "id": "9e70a9a1",
   "metadata": {},
   "outputs": [],
   "source": [
    "from itertools import permutations,combinations,product"
   ]
  },
  {
   "cell_type": "code",
   "execution_count": 601,
   "id": "c0e9f898",
   "metadata": {},
   "outputs": [
    {
     "name": "stdout",
     "output_type": "stream",
     "text": [
      "HACK 2\n",
      "AC\n",
      "AH\n",
      "AK\n",
      "CA\n",
      "CH\n",
      "CK\n",
      "HA\n",
      "HC\n",
      "HK\n",
      "KA\n",
      "KC\n",
      "KH\n"
     ]
    }
   ],
   "source": [
    "if __name__ == '__main__':\n",
    "    arr = list( input().split(sep=' '))\n",
    "    \n",
    "    p = list(permutations(arr[0],int(arr[1])))\n",
    "#     p = list(combinations(arr[0],int(arr[1])))\n",
    "    \n",
    "    strings = []\n",
    "    \n",
    "    for i in p:\n",
    "        strings.append(''.join(i))\n",
    "        \n",
    "    strings.sort()\n",
    "    \n",
    "    for i in strings:\n",
    "        print(i)\n",
    "        \n"
   ]
  },
  {
   "cell_type": "code",
   "execution_count": 1220,
   "id": "3e3e308e",
   "metadata": {},
   "outputs": [],
   "source": [
    "def word_perm(s,n):\n",
    "#     p = list(permutations(s,int(n)))\n",
    "    p = list(combinations(s,int(n)))\n",
    "    return sorted(p)"
   ]
  },
  {
   "cell_type": "code",
   "execution_count": 1221,
   "id": "12ea1d2e",
   "metadata": {},
   "outputs": [
    {
     "data": {
      "text/plain": [
       "[('A', 'C'), ('A', 'K'), ('C', 'K'), ('H', 'A'), ('H', 'C'), ('H', 'K')]"
      ]
     },
     "execution_count": 1221,
     "metadata": {},
     "output_type": "execute_result"
    }
   ],
   "source": [
    "word_perm('HACK',2)"
   ]
  },
  {
   "cell_type": "code",
   "execution_count": null,
   "id": "e2cba2db",
   "metadata": {},
   "outputs": [],
   "source": [
    "# https://www.hackerrank.com/challenges/iterables-and-iterators/problem\n",
    "# Find the probability that at least one of the K indices selected will contain the letter: 'a'.\n",
    "\n",
    "# Sample Input\n",
    "# 4 \n",
    "# a a c d\n",
    "# 2"
   ]
  },
  {
   "cell_type": "code",
   "execution_count": 815,
   "id": "43a41c32",
   "metadata": {},
   "outputs": [
    {
     "name": "stdout",
     "output_type": "stream",
     "text": [
      "4\n",
      "a b c d e f g h i j k l m n o p q r s t u v w x y z\n",
      "3\n",
      "0.11538461538461539\n"
     ]
    }
   ],
   "source": [
    "if __name__ == '__main__':\n",
    "#     letters = ''\n",
    "    n = int(input())\n",
    "    letters = ''.join(input()).replace(' ','')\n",
    "    k = int(input())\n",
    "    \n",
    "    c = list(combinations(letters,k))\n",
    "    \n",
    "    favorable = 0\n",
    "    unfavorable = 0\n",
    "\n",
    "    for i in c:\n",
    "        if 'a' in i:\n",
    "            favorable +=1\n",
    "        else:\n",
    "            unfavorable +=1\n",
    "        \n",
    "    total = favorable + unfavorable\n",
    "    \n",
    "#     print ((favorable/total).as_integer_ratio())\n",
    "    print (favorable/total)\n",
    "    \n"
   ]
  },
  {
   "cell_type": "code",
   "execution_count": 813,
   "id": "72115ef8",
   "metadata": {},
   "outputs": [
    {
     "data": {
      "text/plain": [
       "0.038461538461538464"
      ]
     },
     "execution_count": 813,
     "metadata": {},
     "output_type": "execute_result"
    }
   ],
   "source": [
    "(1/26)"
   ]
  },
  {
   "cell_type": "code",
   "execution_count": 1234,
   "id": "c0621482",
   "metadata": {},
   "outputs": [],
   "source": [
    "alphas = list(string.ascii_lowercase)\n",
    "# alphas = [random.choice(string.ascii_lowercase) for i in range(20)] # randrange is integers "
   ]
  },
  {
   "cell_type": "code",
   "execution_count": 1236,
   "id": "07d5163c",
   "metadata": {},
   "outputs": [],
   "source": [
    "def letter_prob(alphas,k,winning_letter):\n",
    "    c = list(combinations(alphas,k))\n",
    "    \n",
    "    favorable = 0\n",
    "    unfavorable = 0\n",
    "\n",
    "    for i in c:\n",
    "        if winning_letter in i:\n",
    "            favorable +=1\n",
    "        else:\n",
    "            unfavorable +=1\n",
    "            \n",
    "            \n",
    "    probability = favorable / len(alphas)\n",
    "    odds = favorable/unfavorable\n",
    "            \n",
    "    return print(('Probabiliy: {}\\nOdds: {}\\nWinning Letter: {}').format(probability,odds,winning_letter))"
   ]
  },
  {
   "cell_type": "code",
   "execution_count": 1237,
   "id": "f9f77705",
   "metadata": {},
   "outputs": [
    {
     "name": "stdout",
     "output_type": "stream",
     "text": [
      "Probabiliy: 0.038461538461538464\n",
      "Odds: 0.04\n",
      "Winning Letter: c\n"
     ]
    }
   ],
   "source": [
    "letter_prob(alphas,1,'c')"
   ]
  },
  {
   "cell_type": "code",
   "execution_count": 1238,
   "id": "9c3281f3",
   "metadata": {},
   "outputs": [
    {
     "name": "stdout",
     "output_type": "stream",
     "text": [
      "0.038461538461538464 0.04\n"
     ]
    }
   ],
   "source": [
    "print((1/26),(1/25))"
   ]
  },
  {
   "cell_type": "code",
   "execution_count": null,
   "id": "6027706d",
   "metadata": {},
   "outputs": [],
   "source": [
    "# https://www.hackerrank.com/challenges/maximize-it/problem?h_r=next-challenge&h_v=zen\n",
    "# You have to pick one element from each list so that the value from the equation below is maximized:\n",
    "# s = (x**2 + y**2 + z**2) % m\n",
    "# one value from each list, square it, modulo math\n",
    "\n",
    "# sample input \n",
    "# 3 1000\n",
    "# 2 5 4\n",
    "# 3 7 8 9 \n",
    "# 5 5 7 8 9 10 "
   ]
  },
  {
   "cell_type": "code",
   "execution_count": 1294,
   "id": "7211b31e",
   "metadata": {},
   "outputs": [
    {
     "name": "stdout",
     "output_type": "stream",
     "text": [
      "3 1000\n",
      "2 5 4\n",
      "3 7 8 9\n",
      "5 5 7 8 9 10\n",
      "[[5, 4], [7, 8, 9], [5, 7, 8, 9, 10]]\n",
      "206\n"
     ]
    }
   ],
   "source": [
    "if __name__ == '__main__':\n",
    "    string_i = str(input())\n",
    "    K = int((string_i).split()[0])\n",
    "    M = int((string_i).split()[1])\n",
    "    \n",
    "    od = []\n",
    "    \n",
    "    for i in range(K):\n",
    "        arr = list(int(x) for x in input().split(sep=' '))\n",
    "        od.append(arr[1:])\n",
    "    print(od)\n",
    "        \n",
    "            \n",
    "    c = list(product(*od))\n",
    "    \n",
    "    sums=set()\n",
    "    \n",
    "    for element in c:\n",
    "        sums.add(sum(i**2 for i in element)%M)\n",
    "        \n",
    "    print(max(sums))"
   ]
  },
  {
   "cell_type": "code",
   "execution_count": null,
   "id": "b16edf47",
   "metadata": {},
   "outputs": [],
   "source": [
    "# https://www.hackerrank.com/challenges/find-angle/problem\n",
    "# Right triangle atributes"
   ]
  },
  {
   "cell_type": "code",
   "execution_count": 1371,
   "id": "e2bb4126",
   "metadata": {},
   "outputs": [
    {
     "name": "stdout",
     "output_type": "stream",
     "text": [
      "Opp: 10\n",
      "Adj: 10\n",
      "Hyp: 14.142135623730951\n",
      "H: 7.071067811865475\n",
      "Angle A 44.99999999999999\n",
      "Angle B: 44.99999999999999\n",
      "Angle Theta: 45.0\n"
     ]
    }
   ],
   "source": [
    "a= 10\n",
    "b = 10\n",
    "c = math.sqrt(a**2+b**2)\n",
    "h=((a*b)/c)\n",
    "angle_a = (math.asin(a/c)) * (180/math.pi)\n",
    "angle_b = (math.asin(b/c)) * (180/math.pi)\n",
    "angle_theta = math.degrees( math.atan2(a,b) )\n",
    "\n",
    "\n",
    "print(('Opp: {}\\nAdj: {}\\nHyp: {}\\nH: {}\\nAngle A {}\\nAngle B: {}\\nAngle Theta: {}').format(a,b,c,h,angle_a,angle_b,angle_theta))"
   ]
  },
  {
   "cell_type": "code",
   "execution_count": 1372,
   "id": "5afa848c",
   "metadata": {},
   "outputs": [],
   "source": [
    "# https://www.hackerrank.com/challenges/triangle-quest-2/problem"
   ]
  },
  {
   "cell_type": "code",
   "execution_count": 1391,
   "id": "36fcacdb",
   "metadata": {},
   "outputs": [
    {
     "name": "stdout",
     "output_type": "stream",
     "text": [
      "5\n",
      "1\n",
      "121\n",
      "12321\n",
      "1234321\n",
      "123454321\n"
     ]
    }
   ],
   "source": [
    "for i in range(1,int(input())+1):\n",
    "#     print(i)\n",
    "#     print(([(i) for i in range(1,i+1)]))\n",
    "    print((10**i//9)**2)"
   ]
  },
  {
   "cell_type": "code",
   "execution_count": null,
   "id": "7e88cf7d",
   "metadata": {},
   "outputs": [],
   "source": []
  }
 ],
 "metadata": {
  "kernelspec": {
   "display_name": "Python 3",
   "language": "python",
   "name": "python3"
  },
  "language_info": {
   "codemirror_mode": {
    "name": "ipython",
    "version": 3
   },
   "file_extension": ".py",
   "mimetype": "text/x-python",
   "name": "python",
   "nbconvert_exporter": "python",
   "pygments_lexer": "ipython3",
   "version": "3.8.5"
  }
 },
 "nbformat": 4,
 "nbformat_minor": 5
}
